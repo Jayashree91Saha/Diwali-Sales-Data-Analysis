{
 "cells": [
  {
   "cell_type": "markdown",
   "id": "813e88ae",
   "metadata": {},
   "source": [
    "### Data Analysis Project Life Cycle\n",
    "- **Business Problem Understanding**\n",
    "- **Data Collection**\n",
    "- **Data Pre-Processing**\n",
    "- **Exploratory Data Analytics**\n",
    "- **Reporting**"
   ]
  },
  {
   "cell_type": "markdown",
   "id": "b2c7e3b7",
   "metadata": {},
   "source": [
    "### Business Understanding\n",
    "**Client wants us to analyze their diwali sale data to understand the trend, top performing product, categories so that they can be better prepared and utilise the insights to increase their sale**"
   ]
  },
  {
   "cell_type": "markdown",
   "id": "71e15e97",
   "metadata": {},
   "source": [
    "### Data Collection\n",
    " - **Client has provided the historical data in csv format**\n",
    " - Dataset Link: https://drive.google.com/file/d/1mGY1doT8RRTgIS0eZsiexHOjUIel9pvo/view?usp=sharing"
   ]
  },
  {
   "cell_type": "code",
   "execution_count": 17,
   "id": "dd2d34e7",
   "metadata": {},
   "outputs": [],
   "source": [
    "# Importing the liabraries\n",
    "import pandas as pd\n",
    "import numpy as np\n",
    "import matplotlib.pyplot as plt\n",
    "import seaborn as sns\n",
    "import warnings\n",
    "warnings.filterwarnings('ignore')"
   ]
  },
  {
   "cell_type": "code",
   "execution_count": 4,
   "id": "a9f9362f",
   "metadata": {},
   "outputs": [
    {
     "data": {
      "text/html": [
       "<div>\n",
       "<style scoped>\n",
       "    .dataframe tbody tr th:only-of-type {\n",
       "        vertical-align: middle;\n",
       "    }\n",
       "\n",
       "    .dataframe tbody tr th {\n",
       "        vertical-align: top;\n",
       "    }\n",
       "\n",
       "    .dataframe thead th {\n",
       "        text-align: right;\n",
       "    }\n",
       "</style>\n",
       "<table border=\"1\" class=\"dataframe\">\n",
       "  <thead>\n",
       "    <tr style=\"text-align: right;\">\n",
       "      <th></th>\n",
       "      <th>User_ID</th>\n",
       "      <th>Cust_name</th>\n",
       "      <th>Product_ID</th>\n",
       "      <th>Gender</th>\n",
       "      <th>Age Group</th>\n",
       "      <th>Age</th>\n",
       "      <th>Marital_Status</th>\n",
       "      <th>State</th>\n",
       "      <th>Zone</th>\n",
       "      <th>Occupation</th>\n",
       "      <th>Product_Category</th>\n",
       "      <th>Orders</th>\n",
       "      <th>Amount</th>\n",
       "      <th>Status</th>\n",
       "      <th>unnamed1</th>\n",
       "    </tr>\n",
       "  </thead>\n",
       "  <tbody>\n",
       "    <tr>\n",
       "      <th>0</th>\n",
       "      <td>1002903.0</td>\n",
       "      <td>Sanskriti</td>\n",
       "      <td>P00125942</td>\n",
       "      <td>F</td>\n",
       "      <td>26-35</td>\n",
       "      <td>28</td>\n",
       "      <td>0.0</td>\n",
       "      <td>Maharashtra</td>\n",
       "      <td>Western</td>\n",
       "      <td>Healthcare</td>\n",
       "      <td>Auto</td>\n",
       "      <td>1.0</td>\n",
       "      <td>23952</td>\n",
       "      <td>NaN</td>\n",
       "      <td>NaN</td>\n",
       "    </tr>\n",
       "    <tr>\n",
       "      <th>1</th>\n",
       "      <td>1000732.0</td>\n",
       "      <td>Kartik</td>\n",
       "      <td>P00110942</td>\n",
       "      <td>F</td>\n",
       "      <td>26-35</td>\n",
       "      <td>35</td>\n",
       "      <td>1.0</td>\n",
       "      <td>Andhra2adesh</td>\n",
       "      <td>Southern</td>\n",
       "      <td>Govt</td>\n",
       "      <td>Auto</td>\n",
       "      <td>3.0</td>\n",
       "      <td>23934</td>\n",
       "      <td>NaN</td>\n",
       "      <td>NaN</td>\n",
       "    </tr>\n",
       "  </tbody>\n",
       "</table>\n",
       "</div>"
      ],
      "text/plain": [
       "     User_ID  Cust_name Product_ID Gender Age Group Age  Marital_Status  \\\n",
       "0  1002903.0  Sanskriti  P00125942      F     26-35  28             0.0   \n",
       "1  1000732.0     Kartik  P00110942      F     26-35  35             1.0   \n",
       "\n",
       "          State      Zone  Occupation Product_Category  Orders Amount  Status  \\\n",
       "0   Maharashtra   Western  Healthcare             Auto     1.0  23952     NaN   \n",
       "1  Andhra2adesh  Southern        Govt             Auto     3.0  23934     NaN   \n",
       "\n",
       "   unnamed1  \n",
       "0       NaN  \n",
       "1       NaN  "
      ]
     },
     "execution_count": 4,
     "metadata": {},
     "output_type": "execute_result"
    }
   ],
   "source": [
    "# Fetching the data\n",
    "data_path = r'C:\\Work\\YouTube\\Diwali_Sales_Data\\Diwali_Sales_Data.csv'\n",
    "data = pd.read_csv(data_path, encoding='unicode_escape')\n",
    "data.head(2)"
   ]
  },
  {
   "cell_type": "code",
   "execution_count": 37,
   "id": "d9c693ea",
   "metadata": {},
   "outputs": [],
   "source": [
    "# Creating the copy of dataset\n",
    "df = data.copy()"
   ]
  },
  {
   "cell_type": "markdown",
   "id": "b17476d7",
   "metadata": {},
   "source": [
    "### Data Pre-Processing\n",
    "- **Data Profilling**\n",
    "- **Data Cleaning**\n",
    "- **Data Consistancy**\n",
    "- **Data Formating**\n",
    "- **Outlier Detaction & Removal**"
   ]
  },
  {
   "cell_type": "code",
   "execution_count": 38,
   "id": "c22d4fbe",
   "metadata": {},
   "outputs": [
    {
     "data": {
      "text/plain": [
       "(11345, 15)"
      ]
     },
     "execution_count": 38,
     "metadata": {},
     "output_type": "execute_result"
    }
   ],
   "source": [
    "# data shape\n",
    "df.shape"
   ]
  },
  {
   "cell_type": "code",
   "execution_count": 39,
   "id": "b2f51927",
   "metadata": {},
   "outputs": [
    {
     "name": "stdout",
     "output_type": "stream",
     "text": [
      "<class 'pandas.core.frame.DataFrame'>\n",
      "RangeIndex: 11345 entries, 0 to 11344\n",
      "Data columns (total 15 columns):\n",
      " #   Column            Non-Null Count  Dtype  \n",
      "---  ------            --------------  -----  \n",
      " 0   User_ID           11321 non-null  float64\n",
      " 1   Cust_name         11344 non-null  object \n",
      " 2   Product_ID        11341 non-null  object \n",
      " 3   Gender            11341 non-null  object \n",
      " 4   Age Group         11339 non-null  object \n",
      " 5   Age               11334 non-null  object \n",
      " 6   Marital_Status    11339 non-null  float64\n",
      " 7   State             11332 non-null  object \n",
      " 8   Zone              11334 non-null  object \n",
      " 9   Occupation        11339 non-null  object \n",
      " 10  Product_Category  11334 non-null  object \n",
      " 11  Orders            11342 non-null  float64\n",
      " 12  Amount            11331 non-null  object \n",
      " 13  Status            0 non-null      float64\n",
      " 14  unnamed1          0 non-null      float64\n",
      "dtypes: float64(5), object(10)\n",
      "memory usage: 1.3+ MB\n"
     ]
    }
   ],
   "source": [
    "# Feature details\n",
    "df.info()"
   ]
  },
  {
   "cell_type": "code",
   "execution_count": 43,
   "id": "73267e38",
   "metadata": {},
   "outputs": [
    {
     "data": {
      "text/html": [
       "<div>\n",
       "<style scoped>\n",
       "    .dataframe tbody tr th:only-of-type {\n",
       "        vertical-align: middle;\n",
       "    }\n",
       "\n",
       "    .dataframe tbody tr th {\n",
       "        vertical-align: top;\n",
       "    }\n",
       "\n",
       "    .dataframe thead th {\n",
       "        text-align: right;\n",
       "    }\n",
       "</style>\n",
       "<table border=\"1\" class=\"dataframe\">\n",
       "  <thead>\n",
       "    <tr style=\"text-align: right;\">\n",
       "      <th></th>\n",
       "      <th>null_value</th>\n",
       "      <th>percentage</th>\n",
       "    </tr>\n",
       "  </thead>\n",
       "  <tbody>\n",
       "    <tr>\n",
       "      <th>User_ID</th>\n",
       "      <td>24</td>\n",
       "      <td>0.211547</td>\n",
       "    </tr>\n",
       "    <tr>\n",
       "      <th>Cust_name</th>\n",
       "      <td>1</td>\n",
       "      <td>0.008814</td>\n",
       "    </tr>\n",
       "    <tr>\n",
       "      <th>Product_ID</th>\n",
       "      <td>4</td>\n",
       "      <td>0.035258</td>\n",
       "    </tr>\n",
       "    <tr>\n",
       "      <th>Gender</th>\n",
       "      <td>4</td>\n",
       "      <td>0.035258</td>\n",
       "    </tr>\n",
       "    <tr>\n",
       "      <th>Age Group</th>\n",
       "      <td>6</td>\n",
       "      <td>0.052887</td>\n",
       "    </tr>\n",
       "    <tr>\n",
       "      <th>Age</th>\n",
       "      <td>11</td>\n",
       "      <td>0.096959</td>\n",
       "    </tr>\n",
       "    <tr>\n",
       "      <th>Marital_Status</th>\n",
       "      <td>6</td>\n",
       "      <td>0.052887</td>\n",
       "    </tr>\n",
       "    <tr>\n",
       "      <th>State</th>\n",
       "      <td>13</td>\n",
       "      <td>0.114588</td>\n",
       "    </tr>\n",
       "    <tr>\n",
       "      <th>Zone</th>\n",
       "      <td>11</td>\n",
       "      <td>0.096959</td>\n",
       "    </tr>\n",
       "    <tr>\n",
       "      <th>Occupation</th>\n",
       "      <td>6</td>\n",
       "      <td>0.052887</td>\n",
       "    </tr>\n",
       "    <tr>\n",
       "      <th>Product_Category</th>\n",
       "      <td>11</td>\n",
       "      <td>0.096959</td>\n",
       "    </tr>\n",
       "    <tr>\n",
       "      <th>Orders</th>\n",
       "      <td>3</td>\n",
       "      <td>0.026443</td>\n",
       "    </tr>\n",
       "    <tr>\n",
       "      <th>Amount</th>\n",
       "      <td>14</td>\n",
       "      <td>0.123402</td>\n",
       "    </tr>\n",
       "    <tr>\n",
       "      <th>Status</th>\n",
       "      <td>11345</td>\n",
       "      <td>100.000000</td>\n",
       "    </tr>\n",
       "    <tr>\n",
       "      <th>unnamed1</th>\n",
       "      <td>11345</td>\n",
       "      <td>100.000000</td>\n",
       "    </tr>\n",
       "  </tbody>\n",
       "</table>\n",
       "</div>"
      ],
      "text/plain": [
       "                  null_value  percentage\n",
       "User_ID                   24    0.211547\n",
       "Cust_name                  1    0.008814\n",
       "Product_ID                 4    0.035258\n",
       "Gender                     4    0.035258\n",
       "Age Group                  6    0.052887\n",
       "Age                       11    0.096959\n",
       "Marital_Status             6    0.052887\n",
       "State                     13    0.114588\n",
       "Zone                      11    0.096959\n",
       "Occupation                 6    0.052887\n",
       "Product_Category          11    0.096959\n",
       "Orders                     3    0.026443\n",
       "Amount                    14    0.123402\n",
       "Status                 11345  100.000000\n",
       "unnamed1               11345  100.000000"
      ]
     },
     "execution_count": 43,
     "metadata": {},
     "output_type": "execute_result"
    }
   ],
   "source": [
    "# Checking null values\n",
    "df_null = df.isnull().sum()\n",
    "\n",
    "# Null value as percentage\n",
    "df_null_percentage = (df.isna().sum()/(df.shape[0])) * 100\n",
    "null_values = pd.DataFrame({'null_value': df_null, 'percentage': df_null_percentage})\n",
    "null_values"
   ]
  },
  {
   "cell_type": "code",
   "execution_count": 44,
   "id": "5ac334fc",
   "metadata": {},
   "outputs": [
    {
     "data": {
      "text/plain": [
       "Index(['User_ID', 'Cust_name', 'Product_ID', 'Gender', 'Age Group', 'Age',\n",
       "       'Marital_Status', 'State', 'Zone', 'Occupation', 'Product_Category',\n",
       "       'Orders', 'Amount', 'Status', 'unnamed1'],\n",
       "      dtype='object')"
      ]
     },
     "execution_count": 44,
     "metadata": {},
     "output_type": "execute_result"
    }
   ],
   "source": [
    "# Columns name\n",
    "all_column = df.columns\n",
    "all_column"
   ]
  },
  {
   "cell_type": "code",
   "execution_count": 46,
   "id": "47278ff3",
   "metadata": {},
   "outputs": [
    {
     "data": {
      "text/plain": [
       "Index(['User_ID', 'Marital_Status', 'Orders', 'Status', 'unnamed1'], dtype='object')"
      ]
     },
     "execution_count": 46,
     "metadata": {},
     "output_type": "execute_result"
    }
   ],
   "source": [
    "# Numeric Column\n",
    "numeric_column = df.select_dtypes(include = np.number).columns\n",
    "numeric_column"
   ]
  },
  {
   "cell_type": "code",
   "execution_count": 47,
   "id": "7676c546",
   "metadata": {},
   "outputs": [
    {
     "data": {
      "text/plain": [
       "Index(['Cust_name', 'Product_ID', 'Gender', 'Age Group', 'Age', 'State',\n",
       "       'Zone', 'Occupation', 'Product_Category', 'Amount'],\n",
       "      dtype='object')"
      ]
     },
     "execution_count": 47,
     "metadata": {},
     "output_type": "execute_result"
    }
   ],
   "source": [
    "# Non-Numeric Column\n",
    "object_column = df.select_dtypes(include = object).columns\n",
    "object_column"
   ]
  },
  {
   "cell_type": "code",
   "execution_count": 48,
   "id": "7d7b8806",
   "metadata": {},
   "outputs": [
    {
     "name": "stdout",
     "output_type": "stream",
     "text": [
      "Duplicate dataset shape is:  (40, 15)\n"
     ]
    },
    {
     "data": {
      "text/html": [
       "<div>\n",
       "<style scoped>\n",
       "    .dataframe tbody tr th:only-of-type {\n",
       "        vertical-align: middle;\n",
       "    }\n",
       "\n",
       "    .dataframe tbody tr th {\n",
       "        vertical-align: top;\n",
       "    }\n",
       "\n",
       "    .dataframe thead th {\n",
       "        text-align: right;\n",
       "    }\n",
       "</style>\n",
       "<table border=\"1\" class=\"dataframe\">\n",
       "  <thead>\n",
       "    <tr style=\"text-align: right;\">\n",
       "      <th></th>\n",
       "      <th>User_ID</th>\n",
       "      <th>Cust_name</th>\n",
       "      <th>Product_ID</th>\n",
       "      <th>Gender</th>\n",
       "      <th>Age Group</th>\n",
       "      <th>Age</th>\n",
       "      <th>Marital_Status</th>\n",
       "      <th>State</th>\n",
       "      <th>Zone</th>\n",
       "      <th>Occupation</th>\n",
       "      <th>Product_Category</th>\n",
       "      <th>Orders</th>\n",
       "      <th>Amount</th>\n",
       "      <th>Status</th>\n",
       "      <th>unnamed1</th>\n",
       "    </tr>\n",
       "  </thead>\n",
       "  <tbody>\n",
       "    <tr>\n",
       "      <th>4404</th>\n",
       "      <td>1004725.0</td>\n",
       "      <td>Jackson</td>\n",
       "      <td>P00150842</td>\n",
       "      <td>F</td>\n",
       "      <td>36-45</td>\n",
       "      <td>37</td>\n",
       "      <td>1.0</td>\n",
       "      <td>Maharashtra</td>\n",
       "      <td>Western</td>\n",
       "      <td>Hospitality</td>\n",
       "      <td>Electronics &amp; Gadgets</td>\n",
       "      <td>4.0</td>\n",
       "      <td>9859</td>\n",
       "      <td>NaN</td>\n",
       "      <td>NaN</td>\n",
       "    </tr>\n",
       "    <tr>\n",
       "      <th>5703</th>\n",
       "      <td>1003208.0</td>\n",
       "      <td>Bowman</td>\n",
       "      <td>P00171642</td>\n",
       "      <td>F</td>\n",
       "      <td>26-35</td>\n",
       "      <td>31</td>\n",
       "      <td>0.0</td>\n",
       "      <td>Bihar</td>\n",
       "      <td>Eastern</td>\n",
       "      <td>Agriculture</td>\n",
       "      <td>Electronics &amp; Gadgets</td>\n",
       "      <td>4.0</td>\n",
       "      <td>8088</td>\n",
       "      <td>NaN</td>\n",
       "      <td>NaN</td>\n",
       "    </tr>\n",
       "    <tr>\n",
       "      <th>5908</th>\n",
       "      <td>1001260.0</td>\n",
       "      <td>Dheeraj</td>\n",
       "      <td>P00344042</td>\n",
       "      <td>M</td>\n",
       "      <td>26-35</td>\n",
       "      <td>28</td>\n",
       "      <td>0.0</td>\n",
       "      <td>Maharashtra</td>\n",
       "      <td>Western</td>\n",
       "      <td>IT Sector</td>\n",
       "      <td>Electronics &amp; Gadgets</td>\n",
       "      <td>4.0</td>\n",
       "      <td>8015</td>\n",
       "      <td>NaN</td>\n",
       "      <td>NaN</td>\n",
       "    </tr>\n",
       "    <tr>\n",
       "      <th>6173</th>\n",
       "      <td>1001325.0</td>\n",
       "      <td>Reese</td>\n",
       "      <td>P00111742</td>\n",
       "      <td>F</td>\n",
       "      <td>26-35</td>\n",
       "      <td>27</td>\n",
       "      <td>1.0</td>\n",
       "      <td>Gujarat</td>\n",
       "      <td>Western</td>\n",
       "      <td>Construction</td>\n",
       "      <td>Electronics &amp; Gadgets</td>\n",
       "      <td>3.0</td>\n",
       "      <td>7923</td>\n",
       "      <td>NaN</td>\n",
       "      <td>NaN</td>\n",
       "    </tr>\n",
       "    <tr>\n",
       "      <th>8651</th>\n",
       "      <td>1000083.0</td>\n",
       "      <td>Gute</td>\n",
       "      <td>P00242842</td>\n",
       "      <td>M</td>\n",
       "      <td>26-35</td>\n",
       "      <td>35</td>\n",
       "      <td>0.0</td>\n",
       "      <td>Uttar Pradesh</td>\n",
       "      <td>Central</td>\n",
       "      <td>Hospitality</td>\n",
       "      <td>Clothing &amp; Apparel</td>\n",
       "      <td>3.0</td>\n",
       "      <td>5345</td>\n",
       "      <td>NaN</td>\n",
       "      <td>NaN</td>\n",
       "    </tr>\n",
       "  </tbody>\n",
       "</table>\n",
       "</div>"
      ],
      "text/plain": [
       "        User_ID Cust_name Product_ID Gender Age Group Age  Marital_Status  \\\n",
       "4404  1004725.0   Jackson  P00150842      F     36-45  37             1.0   \n",
       "5703  1003208.0    Bowman  P00171642      F     26-35  31             0.0   \n",
       "5908  1001260.0   Dheeraj  P00344042      M     26-35  28             0.0   \n",
       "6173  1001325.0     Reese  P00111742      F     26-35  27             1.0   \n",
       "8651  1000083.0      Gute  P00242842      M     26-35  35             0.0   \n",
       "\n",
       "              State     Zone    Occupation       Product_Category  Orders  \\\n",
       "4404    Maharashtra  Western   Hospitality  Electronics & Gadgets     4.0   \n",
       "5703          Bihar  Eastern   Agriculture  Electronics & Gadgets     4.0   \n",
       "5908    Maharashtra  Western     IT Sector  Electronics & Gadgets     4.0   \n",
       "6173        Gujarat  Western  Construction  Electronics & Gadgets     3.0   \n",
       "8651  Uttar Pradesh  Central   Hospitality     Clothing & Apparel     3.0   \n",
       "\n",
       "     Amount  Status  unnamed1  \n",
       "4404   9859     NaN       NaN  \n",
       "5703   8088     NaN       NaN  \n",
       "5908   8015     NaN       NaN  \n",
       "6173   7923     NaN       NaN  \n",
       "8651   5345     NaN       NaN  "
      ]
     },
     "execution_count": 48,
     "metadata": {},
     "output_type": "execute_result"
    }
   ],
   "source": [
    "# Checking duplicate value\n",
    "df_duplicate = df[df.duplicated()]\n",
    "print(\"Duplicate dataset shape is: \", df_duplicate.shape)\n",
    "df_duplicate.head()"
   ]
  },
  {
   "cell_type": "code",
   "execution_count": 49,
   "id": "f7dc6c1f",
   "metadata": {},
   "outputs": [
    {
     "name": "stdout",
     "output_type": "stream",
     "text": [
      "Non-Duplicate data set shape is:  (11305, 15)\n"
     ]
    },
    {
     "data": {
      "text/html": [
       "<div>\n",
       "<style scoped>\n",
       "    .dataframe tbody tr th:only-of-type {\n",
       "        vertical-align: middle;\n",
       "    }\n",
       "\n",
       "    .dataframe tbody tr th {\n",
       "        vertical-align: top;\n",
       "    }\n",
       "\n",
       "    .dataframe thead th {\n",
       "        text-align: right;\n",
       "    }\n",
       "</style>\n",
       "<table border=\"1\" class=\"dataframe\">\n",
       "  <thead>\n",
       "    <tr style=\"text-align: right;\">\n",
       "      <th></th>\n",
       "      <th>User_ID</th>\n",
       "      <th>Cust_name</th>\n",
       "      <th>Product_ID</th>\n",
       "      <th>Gender</th>\n",
       "      <th>Age Group</th>\n",
       "      <th>Age</th>\n",
       "      <th>Marital_Status</th>\n",
       "      <th>State</th>\n",
       "      <th>Zone</th>\n",
       "      <th>Occupation</th>\n",
       "      <th>Product_Category</th>\n",
       "      <th>Orders</th>\n",
       "      <th>Amount</th>\n",
       "      <th>Status</th>\n",
       "      <th>unnamed1</th>\n",
       "    </tr>\n",
       "  </thead>\n",
       "  <tbody>\n",
       "  </tbody>\n",
       "</table>\n",
       "</div>"
      ],
      "text/plain": [
       "Empty DataFrame\n",
       "Columns: [User_ID, Cust_name, Product_ID, Gender, Age Group, Age, Marital_Status, State, Zone, Occupation, Product_Category, Orders, Amount, Status, unnamed1]\n",
       "Index: []"
      ]
     },
     "execution_count": 49,
     "metadata": {},
     "output_type": "execute_result"
    }
   ],
   "source": [
    "# Filtering out the duplicate entries\n",
    "df = df[~df.duplicated()]\n",
    "print('Non-Duplicate data set shape is: ', df.shape)\n",
    "\n",
    "# Checking if any duplicate exists\n",
    "df[df.duplicated()]"
   ]
  },
  {
   "cell_type": "markdown",
   "id": "105d7513",
   "metadata": {},
   "source": [
    "### Data Profilling\n",
    "- **Amount**\n",
    "    - We need to change the data type from object to integer\n",
    "    - The rows corresponding to null values should be dropped\n",
    "    - Need to drops the rows corresponding the values abcde\n",
    "- **Status & Unnamed1**\n",
    "    - No data should be dropped\n",
    "- **Orders**\n",
    "    - Null values has to be drop\n",
    "    - Their is Outliers which can be removed\n",
    "- **State**\n",
    "    - 'Andhra2adesh', 'Nndhra2adesh'change with 'AndhraPradesh'\n",
    "    - Drop the rows corresponding the null values\n",
    "- **Zone**\n",
    "    - Drop the rows corresponding the null values\n",
    "    - Zentral should be replaced with Central\n",
    "- **Product_id**\n",
    "    - Drop the rows corresponding the null values\n",
    "- **Marital Status**\n",
    "   - Null values can be replaced with mode\n",
    "   - '1' can be replaced with 'Married'\n",
    "   - '0' can be replaced with 'Unmarried\n",
    "   - will create a new column with this\n",
    "- **Age**\n",
    "   - 'Age' value can be replaced with mode\n",
    "   - Null values can be changed with mode\n",
    "   - Data type needs to be change with object to numeric\n",
    "- **Age Group**\n",
    "  - 'low-high' value can be replaced with mode\n",
    "  - Null values can be changed with mode\n",
    "- **Product Category**\n",
    "    - Null values can be dropped\n",
    "- **User_ID, Product_ID, Gender**\n",
    "    - Can be replaced with mode values of repective column\n"
   ]
  },
  {
   "cell_type": "markdown",
   "id": "94701c68",
   "metadata": {},
   "source": [
    "### Data Cleaning"
   ]
  },
  {
   "cell_type": "code",
   "execution_count": 50,
   "id": "578074e5",
   "metadata": {},
   "outputs": [
    {
     "data": {
      "text/html": [
       "<div>\n",
       "<style scoped>\n",
       "    .dataframe tbody tr th:only-of-type {\n",
       "        vertical-align: middle;\n",
       "    }\n",
       "\n",
       "    .dataframe tbody tr th {\n",
       "        vertical-align: top;\n",
       "    }\n",
       "\n",
       "    .dataframe thead th {\n",
       "        text-align: right;\n",
       "    }\n",
       "</style>\n",
       "<table border=\"1\" class=\"dataframe\">\n",
       "  <thead>\n",
       "    <tr style=\"text-align: right;\">\n",
       "      <th></th>\n",
       "      <th>User_ID</th>\n",
       "      <th>Cust_name</th>\n",
       "      <th>Product_ID</th>\n",
       "      <th>Gender</th>\n",
       "      <th>Age Group</th>\n",
       "      <th>Age</th>\n",
       "      <th>Marital_Status</th>\n",
       "      <th>State</th>\n",
       "      <th>Zone</th>\n",
       "      <th>Occupation</th>\n",
       "      <th>Product_Category</th>\n",
       "      <th>Orders</th>\n",
       "      <th>Amount</th>\n",
       "    </tr>\n",
       "  </thead>\n",
       "  <tbody>\n",
       "    <tr>\n",
       "      <th>0</th>\n",
       "      <td>1002903.0</td>\n",
       "      <td>Sanskriti</td>\n",
       "      <td>P00125942</td>\n",
       "      <td>F</td>\n",
       "      <td>26-35</td>\n",
       "      <td>28</td>\n",
       "      <td>0.0</td>\n",
       "      <td>Maharashtra</td>\n",
       "      <td>Western</td>\n",
       "      <td>Healthcare</td>\n",
       "      <td>Auto</td>\n",
       "      <td>1.0</td>\n",
       "      <td>23952</td>\n",
       "    </tr>\n",
       "    <tr>\n",
       "      <th>1</th>\n",
       "      <td>1000732.0</td>\n",
       "      <td>Kartik</td>\n",
       "      <td>P00110942</td>\n",
       "      <td>F</td>\n",
       "      <td>26-35</td>\n",
       "      <td>35</td>\n",
       "      <td>1.0</td>\n",
       "      <td>Andhra2adesh</td>\n",
       "      <td>Southern</td>\n",
       "      <td>Govt</td>\n",
       "      <td>Auto</td>\n",
       "      <td>3.0</td>\n",
       "      <td>23934</td>\n",
       "    </tr>\n",
       "  </tbody>\n",
       "</table>\n",
       "</div>"
      ],
      "text/plain": [
       "     User_ID  Cust_name Product_ID Gender Age Group Age  Marital_Status  \\\n",
       "0  1002903.0  Sanskriti  P00125942      F     26-35  28             0.0   \n",
       "1  1000732.0     Kartik  P00110942      F     26-35  35             1.0   \n",
       "\n",
       "          State      Zone  Occupation Product_Category  Orders Amount  \n",
       "0   Maharashtra   Western  Healthcare             Auto     1.0  23952  \n",
       "1  Andhra2adesh  Southern        Govt             Auto     3.0  23934  "
      ]
     },
     "execution_count": 50,
     "metadata": {},
     "output_type": "execute_result"
    }
   ],
   "source": [
    "# Dropping the columns: Status & unmamed1\n",
    "df.drop(['Status' , 'unnamed1'], axis = 1, inplace = True)\n",
    "df.head(2)"
   ]
  },
  {
   "cell_type": "code",
   "execution_count": 51,
   "id": "95fce138",
   "metadata": {},
   "outputs": [
    {
     "data": {
      "text/plain": [
       "dtype('float64')"
      ]
     },
     "execution_count": 51,
     "metadata": {},
     "output_type": "execute_result"
    }
   ],
   "source": [
    "# changing the data type\n",
    "df['Amount'] = pd.to_numeric(df['Amount'], errors ='coerce') # errors ='coerce' will change non-numeric values to nan\n",
    "df['Amount'].dtypes"
   ]
  },
  {
   "cell_type": "code",
   "execution_count": 52,
   "id": "bf7fe34b",
   "metadata": {},
   "outputs": [],
   "source": [
    "# Dropping the null values in the columns[ Amount,Orders, State, Zone, Product_id, Product_category]\n",
    "df.dropna(subset = ['Amount','Orders', 'State', 'Zone', 'Product_ID', 'Product_Category'], inplace = True)"
   ]
  },
  {
   "cell_type": "markdown",
   "id": "1321aa16",
   "metadata": {},
   "source": [
    "#### State & Zone"
   ]
  },
  {
   "cell_type": "code",
   "execution_count": 53,
   "id": "c8baccd6",
   "metadata": {},
   "outputs": [
    {
     "data": {
      "text/plain": [
       "array(['Maharashtra', 'Andhra2adesh', 'Uttar Pradesh', 'Karnataka',\n",
       "       'Gujarat', 'Himachal Pradesh', 'Delhi', 'Jharkhand', 'Kerala',\n",
       "       'Nndhra2adesh', 'Madhya Pradesh', 'Bihar', 'Rajasthan', 'Haryana',\n",
       "       'Uttarakhand', 'Telangana', 'Punjab'], dtype=object)"
      ]
     },
     "execution_count": 53,
     "metadata": {},
     "output_type": "execute_result"
    }
   ],
   "source": [
    "df['State'].unique()"
   ]
  },
  {
   "cell_type": "code",
   "execution_count": 54,
   "id": "2f12d92e",
   "metadata": {},
   "outputs": [],
   "source": [
    "# Replacing Andhra2adesh & Nndhra2adesh with Andhra Pradesh\n",
    "df['State'] = df['State'].str.replace('Andhra2adesh', 'Andhra Pradesh')\n",
    "df['State'] = df['State'].str.replace('Nndhra2adesh', 'Andhra Pradesh')"
   ]
  },
  {
   "cell_type": "code",
   "execution_count": 55,
   "id": "bb9b4c42",
   "metadata": {},
   "outputs": [
    {
     "data": {
      "text/plain": [
       "array(['Maharashtra', 'Andhra Pradesh', 'Uttar Pradesh', 'Karnataka',\n",
       "       'Gujarat', 'Himachal Pradesh', 'Delhi', 'Jharkhand', 'Kerala',\n",
       "       'Madhya Pradesh', 'Bihar', 'Rajasthan', 'Haryana', 'Uttarakhand',\n",
       "       'Telangana', 'Punjab'], dtype=object)"
      ]
     },
     "execution_count": 55,
     "metadata": {},
     "output_type": "execute_result"
    }
   ],
   "source": [
    "df['State'].unique()"
   ]
  },
  {
   "cell_type": "markdown",
   "id": "24d8c290",
   "metadata": {},
   "source": [
    "#### Zone"
   ]
  },
  {
   "cell_type": "code",
   "execution_count": 56,
   "id": "bd2e4da7",
   "metadata": {},
   "outputs": [
    {
     "data": {
      "text/plain": [
       "array(['Western', 'Southern', 'Central', 'Northern', 'Zentral', 'Eastern'],\n",
       "      dtype=object)"
      ]
     },
     "execution_count": 56,
     "metadata": {},
     "output_type": "execute_result"
    }
   ],
   "source": [
    "df['Zone'].unique()"
   ]
  },
  {
   "cell_type": "code",
   "execution_count": 57,
   "id": "bc7f9c37",
   "metadata": {},
   "outputs": [],
   "source": [
    "# Replacing Zentral with Central\n",
    "df['Zone'] = df['Zone'].str.replace('Zentral', 'Central')"
   ]
  },
  {
   "cell_type": "code",
   "execution_count": 58,
   "id": "e49e87bd",
   "metadata": {},
   "outputs": [
    {
     "data": {
      "text/plain": [
       "array(['Western', 'Southern', 'Central', 'Northern', 'Eastern'],\n",
       "      dtype=object)"
      ]
     },
     "execution_count": 58,
     "metadata": {},
     "output_type": "execute_result"
    }
   ],
   "source": [
    "df['Zone'].unique()"
   ]
  },
  {
   "cell_type": "markdown",
   "id": "f4be3fe7",
   "metadata": {},
   "source": [
    "#### Marital_Status"
   ]
  },
  {
   "cell_type": "code",
   "execution_count": 59,
   "id": "4af458e8",
   "metadata": {},
   "outputs": [
    {
     "data": {
      "text/plain": [
       "0.0"
      ]
     },
     "execution_count": 59,
     "metadata": {},
     "output_type": "execute_result"
    }
   ],
   "source": [
    "# Replacing the values with mode\n",
    "marital_status_mode = df['Marital_Status'].mode()[0]\n",
    "marital_status_mode"
   ]
  },
  {
   "cell_type": "code",
   "execution_count": 60,
   "id": "feeefd7e",
   "metadata": {},
   "outputs": [],
   "source": [
    "df['Marital_Status']= df['Marital_Status'].fillna(marital_status_mode)"
   ]
  },
  {
   "cell_type": "code",
   "execution_count": 61,
   "id": "fe6287a8",
   "metadata": {},
   "outputs": [
    {
     "data": {
      "text/plain": [
       "0"
      ]
     },
     "execution_count": 61,
     "metadata": {},
     "output_type": "execute_result"
    }
   ],
   "source": [
    "df['Marital_Status'].isna().sum()"
   ]
  },
  {
   "cell_type": "code",
   "execution_count": 62,
   "id": "658eaeae",
   "metadata": {},
   "outputs": [
    {
     "data": {
      "text/plain": [
       "array([0., 1.])"
      ]
     },
     "execution_count": 62,
     "metadata": {},
     "output_type": "execute_result"
    }
   ],
   "source": [
    "df['Marital_Status'].unique()"
   ]
  },
  {
   "cell_type": "code",
   "execution_count": 63,
   "id": "ce26c549",
   "metadata": {},
   "outputs": [],
   "source": [
    "# Creating a new column with marital_status\n",
    "df['Marriage_Status'] = df['Marital_Status'].apply(lambda x: 'Married' if x == 1. else 'Unmarried')"
   ]
  },
  {
   "cell_type": "code",
   "execution_count": 64,
   "id": "c89a4f1d",
   "metadata": {},
   "outputs": [
    {
     "data": {
      "text/html": [
       "<div>\n",
       "<style scoped>\n",
       "    .dataframe tbody tr th:only-of-type {\n",
       "        vertical-align: middle;\n",
       "    }\n",
       "\n",
       "    .dataframe tbody tr th {\n",
       "        vertical-align: top;\n",
       "    }\n",
       "\n",
       "    .dataframe thead th {\n",
       "        text-align: right;\n",
       "    }\n",
       "</style>\n",
       "<table border=\"1\" class=\"dataframe\">\n",
       "  <thead>\n",
       "    <tr style=\"text-align: right;\">\n",
       "      <th></th>\n",
       "      <th>User_ID</th>\n",
       "      <th>Cust_name</th>\n",
       "      <th>Product_ID</th>\n",
       "      <th>Gender</th>\n",
       "      <th>Age Group</th>\n",
       "      <th>Age</th>\n",
       "      <th>Marital_Status</th>\n",
       "      <th>State</th>\n",
       "      <th>Zone</th>\n",
       "      <th>Occupation</th>\n",
       "      <th>Product_Category</th>\n",
       "      <th>Orders</th>\n",
       "      <th>Amount</th>\n",
       "      <th>Marriage_Status</th>\n",
       "    </tr>\n",
       "  </thead>\n",
       "  <tbody>\n",
       "    <tr>\n",
       "      <th>0</th>\n",
       "      <td>1002903.0</td>\n",
       "      <td>Sanskriti</td>\n",
       "      <td>P00125942</td>\n",
       "      <td>F</td>\n",
       "      <td>26-35</td>\n",
       "      <td>28</td>\n",
       "      <td>0.0</td>\n",
       "      <td>Maharashtra</td>\n",
       "      <td>Western</td>\n",
       "      <td>Healthcare</td>\n",
       "      <td>Auto</td>\n",
       "      <td>1.0</td>\n",
       "      <td>23952.0</td>\n",
       "      <td>Unmarried</td>\n",
       "    </tr>\n",
       "    <tr>\n",
       "      <th>1</th>\n",
       "      <td>1000732.0</td>\n",
       "      <td>Kartik</td>\n",
       "      <td>P00110942</td>\n",
       "      <td>F</td>\n",
       "      <td>26-35</td>\n",
       "      <td>35</td>\n",
       "      <td>1.0</td>\n",
       "      <td>Andhra Pradesh</td>\n",
       "      <td>Southern</td>\n",
       "      <td>Govt</td>\n",
       "      <td>Auto</td>\n",
       "      <td>3.0</td>\n",
       "      <td>23934.0</td>\n",
       "      <td>Married</td>\n",
       "    </tr>\n",
       "  </tbody>\n",
       "</table>\n",
       "</div>"
      ],
      "text/plain": [
       "     User_ID  Cust_name Product_ID Gender Age Group Age  Marital_Status  \\\n",
       "0  1002903.0  Sanskriti  P00125942      F     26-35  28             0.0   \n",
       "1  1000732.0     Kartik  P00110942      F     26-35  35             1.0   \n",
       "\n",
       "            State      Zone  Occupation Product_Category  Orders   Amount  \\\n",
       "0     Maharashtra   Western  Healthcare             Auto     1.0  23952.0   \n",
       "1  Andhra Pradesh  Southern        Govt             Auto     3.0  23934.0   \n",
       "\n",
       "  Marriage_Status  \n",
       "0       Unmarried  \n",
       "1         Married  "
      ]
     },
     "execution_count": 64,
     "metadata": {},
     "output_type": "execute_result"
    }
   ],
   "source": [
    "df.head(2)"
   ]
  },
  {
   "cell_type": "markdown",
   "id": "d45f6d69",
   "metadata": {},
   "source": [
    "#### Age"
   ]
  },
  {
   "cell_type": "code",
   "execution_count": 65,
   "id": "eca57845",
   "metadata": {},
   "outputs": [
    {
     "data": {
      "text/plain": [
       "dtype('float64')"
      ]
     },
     "execution_count": 65,
     "metadata": {},
     "output_type": "execute_result"
    }
   ],
   "source": [
    "# Converting datatype from object to numeric.\n",
    "df['Age'] = pd.to_numeric(df['Age'], errors ='coerce')\n",
    "df['Age'].dtypes"
   ]
  },
  {
   "cell_type": "code",
   "execution_count": 66,
   "id": "4828984c",
   "metadata": {},
   "outputs": [],
   "source": [
    "# Replacing the null value with mode\n",
    "age_mode = df['Age'].mode()[0]\n",
    "df['Age']= df['Age'].fillna(age_mode)"
   ]
  },
  {
   "cell_type": "markdown",
   "id": "5fd8d827",
   "metadata": {},
   "source": [
    "#### Age Group"
   ]
  },
  {
   "cell_type": "code",
   "execution_count": 67,
   "id": "d5fa9c30",
   "metadata": {},
   "outputs": [],
   "source": [
    "# Replacing null values with mode\n",
    "age_group_mode = df['Age Group'].mode()[0]\n",
    "age_group_mode\n",
    "df['Age Group'] = df['Age Group'].str.replace('low-high',age_group_mode)\n",
    "df['Age Group'] = df['Age Group'].fillna(age_group_mode)"
   ]
  },
  {
   "cell_type": "markdown",
   "id": "4865d182",
   "metadata": {},
   "source": [
    "#### Gender & Occupation"
   ]
  },
  {
   "cell_type": "code",
   "execution_count": 68,
   "id": "06650d75",
   "metadata": {},
   "outputs": [],
   "source": [
    "# Replacing null values with mode\n",
    "gender_mode = df['Gender'].mode()[0]\n",
    "occupation_mode = df['Occupation'].mode()[0]\n",
    "df['Gender'] = df['Gender'].fillna(gender_mode)\n",
    "df['Occupation'] = df['Occupation'].fillna(occupation_mode)"
   ]
  },
  {
   "cell_type": "markdown",
   "id": "c8dd8c09",
   "metadata": {},
   "source": [
    "#### User id"
   ]
  },
  {
   "cell_type": "code",
   "execution_count": 69,
   "id": "da2453f7",
   "metadata": {},
   "outputs": [],
   "source": [
    "# Replacing null values with mode\n",
    "user_id_mode = df['User_ID'].mode()[0]\n",
    "df['User_ID'] = df['User_ID'].fillna(user_id_mode)"
   ]
  },
  {
   "cell_type": "code",
   "execution_count": 70,
   "id": "831392e0",
   "metadata": {},
   "outputs": [
    {
     "data": {
      "text/plain": [
       "User_ID             0\n",
       "Cust_name           0\n",
       "Product_ID          0\n",
       "Gender              0\n",
       "Age Group           0\n",
       "Age                 0\n",
       "Marital_Status      0\n",
       "State               0\n",
       "Zone                0\n",
       "Occupation          0\n",
       "Product_Category    0\n",
       "Orders              0\n",
       "Amount              0\n",
       "Marriage_Status     0\n",
       "dtype: int64"
      ]
     },
     "execution_count": 70,
     "metadata": {},
     "output_type": "execute_result"
    }
   ],
   "source": [
    "df.isnull().sum()"
   ]
  },
  {
   "cell_type": "code",
   "execution_count": 71,
   "id": "676d03b5",
   "metadata": {},
   "outputs": [
    {
     "name": "stdout",
     "output_type": "stream",
     "text": [
      "<class 'pandas.core.frame.DataFrame'>\n",
      "Int64Index: 11254 entries, 0 to 11340\n",
      "Data columns (total 14 columns):\n",
      " #   Column            Non-Null Count  Dtype  \n",
      "---  ------            --------------  -----  \n",
      " 0   User_ID           11254 non-null  float64\n",
      " 1   Cust_name         11254 non-null  object \n",
      " 2   Product_ID        11254 non-null  object \n",
      " 3   Gender            11254 non-null  object \n",
      " 4   Age Group         11254 non-null  object \n",
      " 5   Age               11254 non-null  float64\n",
      " 6   Marital_Status    11254 non-null  float64\n",
      " 7   State             11254 non-null  object \n",
      " 8   Zone              11254 non-null  object \n",
      " 9   Occupation        11254 non-null  object \n",
      " 10  Product_Category  11254 non-null  object \n",
      " 11  Orders            11254 non-null  float64\n",
      " 12  Amount            11254 non-null  float64\n",
      " 13  Marriage_Status   11254 non-null  object \n",
      "dtypes: float64(5), object(9)\n",
      "memory usage: 1.3+ MB\n"
     ]
    }
   ],
   "source": [
    "df.info()"
   ]
  },
  {
   "cell_type": "markdown",
   "id": "213c80ac",
   "metadata": {},
   "source": [
    "## Outlier detection & removal"
   ]
  },
  {
   "cell_type": "code",
   "execution_count": 72,
   "id": "8d9a72bc",
   "metadata": {},
   "outputs": [
    {
     "data": {
      "text/html": [
       "<div>\n",
       "<style scoped>\n",
       "    .dataframe tbody tr th:only-of-type {\n",
       "        vertical-align: middle;\n",
       "    }\n",
       "\n",
       "    .dataframe tbody tr th {\n",
       "        vertical-align: top;\n",
       "    }\n",
       "\n",
       "    .dataframe thead th {\n",
       "        text-align: right;\n",
       "    }\n",
       "</style>\n",
       "<table border=\"1\" class=\"dataframe\">\n",
       "  <thead>\n",
       "    <tr style=\"text-align: right;\">\n",
       "      <th></th>\n",
       "      <th>User_ID</th>\n",
       "      <th>Age</th>\n",
       "      <th>Marital_Status</th>\n",
       "      <th>Orders</th>\n",
       "      <th>Amount</th>\n",
       "    </tr>\n",
       "  </thead>\n",
       "  <tbody>\n",
       "    <tr>\n",
       "      <th>count</th>\n",
       "      <td>1.125400e+04</td>\n",
       "      <td>11254.000000</td>\n",
       "      <td>11254.000000</td>\n",
       "      <td>11254.000000</td>\n",
       "      <td>1.125400e+04</td>\n",
       "    </tr>\n",
       "    <tr>\n",
       "      <th>mean</th>\n",
       "      <td>1.013664e+06</td>\n",
       "      <td>35.424382</td>\n",
       "      <td>0.419762</td>\n",
       "      <td>2.494135</td>\n",
       "      <td>1.916697e+05</td>\n",
       "    </tr>\n",
       "    <tr>\n",
       "      <th>std</th>\n",
       "      <td>3.263686e+05</td>\n",
       "      <td>12.753259</td>\n",
       "      <td>0.493542</td>\n",
       "      <td>1.186925</td>\n",
       "      <td>1.072906e+07</td>\n",
       "    </tr>\n",
       "    <tr>\n",
       "      <th>min</th>\n",
       "      <td>1.000001e+06</td>\n",
       "      <td>12.000000</td>\n",
       "      <td>0.000000</td>\n",
       "      <td>1.000000</td>\n",
       "      <td>1.880000e+02</td>\n",
       "    </tr>\n",
       "    <tr>\n",
       "      <th>25%</th>\n",
       "      <td>1.001496e+06</td>\n",
       "      <td>27.000000</td>\n",
       "      <td>0.000000</td>\n",
       "      <td>2.000000</td>\n",
       "      <td>5.445000e+03</td>\n",
       "    </tr>\n",
       "    <tr>\n",
       "      <th>50%</th>\n",
       "      <td>1.003064e+06</td>\n",
       "      <td>33.000000</td>\n",
       "      <td>0.000000</td>\n",
       "      <td>2.000000</td>\n",
       "      <td>8.113000e+03</td>\n",
       "    </tr>\n",
       "    <tr>\n",
       "      <th>75%</th>\n",
       "      <td>1.004430e+06</td>\n",
       "      <td>43.000000</td>\n",
       "      <td>1.000000</td>\n",
       "      <td>3.000000</td>\n",
       "      <td>1.269900e+04</td>\n",
       "    </tr>\n",
       "    <tr>\n",
       "      <th>max</th>\n",
       "      <td>1.100505e+07</td>\n",
       "      <td>92.000000</td>\n",
       "      <td>1.000000</td>\n",
       "      <td>40.000000</td>\n",
       "      <td>8.760212e+08</td>\n",
       "    </tr>\n",
       "  </tbody>\n",
       "</table>\n",
       "</div>"
      ],
      "text/plain": [
       "            User_ID           Age  Marital_Status        Orders        Amount\n",
       "count  1.125400e+04  11254.000000    11254.000000  11254.000000  1.125400e+04\n",
       "mean   1.013664e+06     35.424382        0.419762      2.494135  1.916697e+05\n",
       "std    3.263686e+05     12.753259        0.493542      1.186925  1.072906e+07\n",
       "min    1.000001e+06     12.000000        0.000000      1.000000  1.880000e+02\n",
       "25%    1.001496e+06     27.000000        0.000000      2.000000  5.445000e+03\n",
       "50%    1.003064e+06     33.000000        0.000000      2.000000  8.113000e+03\n",
       "75%    1.004430e+06     43.000000        1.000000      3.000000  1.269900e+04\n",
       "max    1.100505e+07     92.000000        1.000000     40.000000  8.760212e+08"
      ]
     },
     "execution_count": 72,
     "metadata": {},
     "output_type": "execute_result"
    }
   ],
   "source": [
    "df.describe()"
   ]
  },
  {
   "cell_type": "code",
   "execution_count": 73,
   "id": "dd549fa8",
   "metadata": {},
   "outputs": [
    {
     "data": {
      "text/plain": [
       "Text(0.5, 1.0, 'Box plot for AMOUNT')"
      ]
     },
     "execution_count": 73,
     "metadata": {},
     "output_type": "execute_result"
    },
    {
     "data": {
      "image/png": "[encoded data removed]",
      "text/plain": [
       "<Figure size 720x360 with 2 Axes>"
      ]
     },
     "metadata": {
      "needs_background": "light"
     },
     "output_type": "display_data"
    }
   ],
   "source": [
    "# Visualization of outlier\n",
    "fig, ax = plt.subplots(1,2, figsize = (10,5))\n",
    "sns.boxplot(data = df['Orders'], ax = ax[0])\n",
    "ax[0].set_title('Box plot for ORDERS')\n",
    "sns.boxplot(data = df['Amount'], ax = ax[1])\n",
    "ax[1].set_title('Box plot for AMOUNT')"
   ]
  },
  {
   "cell_type": "markdown",
   "id": "d345d8e7",
   "metadata": {},
   "source": [
    "#### Orders"
   ]
  },
  {
   "cell_type": "code",
   "execution_count": 75,
   "id": "ea723d23",
   "metadata": {},
   "outputs": [
    {
     "name": "stdout",
     "output_type": "stream",
     "text": [
      "Quartile1:  2.0\n",
      "Quartile3:  3.0\n",
      "IQR:  1.0\n",
      "lower limit:  0.5\n",
      "upper limit:  4.5\n"
     ]
    }
   ],
   "source": [
    "# Quartile & Limits\n",
    "q1_orders = np.quantile(df['Orders'], 0.25)\n",
    "q3_orders = np.quantile(df['Orders'], 0.75)\n",
    "IQR_orders = q3_orders - q1_orders\n",
    "print(\"Quartile1: \", q1_orders)\n",
    "print(\"Quartile3: \", q3_orders)\n",
    "print(\"IQR: \", IQR_orders)\n",
    "\n",
    "#IQR_orders\n",
    "lower_limit_order = q1_orders - 1.5* IQR_orders\n",
    "upper_limit_order = q3_orders + 1.5* IQR_orders\n",
    "print(\"lower limit: \", lower_limit_order)\n",
    "print(\"upper limit: \", upper_limit_order)"
   ]
  },
  {
   "cell_type": "code",
   "execution_count": 76,
   "id": "8f74d5db",
   "metadata": {},
   "outputs": [
    {
     "data": {
      "text/html": [
       "<div>\n",
       "<style scoped>\n",
       "    .dataframe tbody tr th:only-of-type {\n",
       "        vertical-align: middle;\n",
       "    }\n",
       "\n",
       "    .dataframe tbody tr th {\n",
       "        vertical-align: top;\n",
       "    }\n",
       "\n",
       "    .dataframe thead th {\n",
       "        text-align: right;\n",
       "    }\n",
       "</style>\n",
       "<table border=\"1\" class=\"dataframe\">\n",
       "  <thead>\n",
       "    <tr style=\"text-align: right;\">\n",
       "      <th></th>\n",
       "      <th>User_ID</th>\n",
       "      <th>Cust_name</th>\n",
       "      <th>Product_ID</th>\n",
       "      <th>Gender</th>\n",
       "      <th>Age Group</th>\n",
       "      <th>Age</th>\n",
       "      <th>Marital_Status</th>\n",
       "      <th>State</th>\n",
       "      <th>Zone</th>\n",
       "      <th>Occupation</th>\n",
       "      <th>Product_Category</th>\n",
       "      <th>Orders</th>\n",
       "      <th>Amount</th>\n",
       "      <th>Marriage_Status</th>\n",
       "    </tr>\n",
       "  </thead>\n",
       "  <tbody>\n",
       "    <tr>\n",
       "      <th>0</th>\n",
       "      <td>1002903.0</td>\n",
       "      <td>Sanskriti</td>\n",
       "      <td>P00125942</td>\n",
       "      <td>F</td>\n",
       "      <td>26-35</td>\n",
       "      <td>28.0</td>\n",
       "      <td>0.0</td>\n",
       "      <td>Maharashtra</td>\n",
       "      <td>Western</td>\n",
       "      <td>Healthcare</td>\n",
       "      <td>Auto</td>\n",
       "      <td>1.0</td>\n",
       "      <td>23952.0</td>\n",
       "      <td>Unmarried</td>\n",
       "    </tr>\n",
       "    <tr>\n",
       "      <th>1</th>\n",
       "      <td>1000732.0</td>\n",
       "      <td>Kartik</td>\n",
       "      <td>P00110942</td>\n",
       "      <td>F</td>\n",
       "      <td>26-35</td>\n",
       "      <td>35.0</td>\n",
       "      <td>1.0</td>\n",
       "      <td>Andhra Pradesh</td>\n",
       "      <td>Southern</td>\n",
       "      <td>Govt</td>\n",
       "      <td>Auto</td>\n",
       "      <td>3.0</td>\n",
       "      <td>23934.0</td>\n",
       "      <td>Married</td>\n",
       "    </tr>\n",
       "  </tbody>\n",
       "</table>\n",
       "</div>"
      ],
      "text/plain": [
       "     User_ID  Cust_name Product_ID Gender Age Group   Age  Marital_Status  \\\n",
       "0  1002903.0  Sanskriti  P00125942      F     26-35  28.0             0.0   \n",
       "1  1000732.0     Kartik  P00110942      F     26-35  35.0             1.0   \n",
       "\n",
       "            State      Zone  Occupation Product_Category  Orders   Amount  \\\n",
       "0     Maharashtra   Western  Healthcare             Auto     1.0  23952.0   \n",
       "1  Andhra Pradesh  Southern        Govt             Auto     3.0  23934.0   \n",
       "\n",
       "  Marriage_Status  \n",
       "0       Unmarried  \n",
       "1         Married  "
      ]
     },
     "execution_count": 76,
     "metadata": {},
     "output_type": "execute_result"
    }
   ],
   "source": [
    "# Removing the outliers\n",
    "df = df[(df['Orders'] > lower_limit_order) & (df['Orders'] < upper_limit_order)]\n",
    "df.head(2)"
   ]
  },
  {
   "cell_type": "code",
   "execution_count": 78,
   "id": "a2efa51d",
   "metadata": {},
   "outputs": [
    {
     "name": "stdout",
     "output_type": "stream",
     "text": [
      "Quartile1:  5444.75\n",
      "Quartile3:  12699.0\n",
      "IQR:  7254.25\n",
      "lower limit:  -5436.625\n",
      "upper limit:  23580.375\n"
     ]
    }
   ],
   "source": [
    "# Quartile & Limits\n",
    "q1_amount = np.quantile(df['Amount'], 0.25)\n",
    "q3_amount = np.quantile(df['Amount'], 0.75)\n",
    "IQR_amount = q3_amount - q1_amount\n",
    "print('Quartile1: ', q1_amount)\n",
    "print('Quartile3: ', q3_amount)\n",
    "print('IQR: ', IQR_amount)\n",
    "\n",
    "lower_limit_amount = q1_amount - 1.5* IQR_amount\n",
    "upper_limit_amount = q3_amount + 1.5* IQR_amount\n",
    "print('lower limit: ', lower_limit_amount)\n",
    "print('upper limit: ', upper_limit_amount)"
   ]
  },
  {
   "cell_type": "code",
   "execution_count": 80,
   "id": "534f68dc",
   "metadata": {},
   "outputs": [
    {
     "data": {
      "text/html": [
       "<div>\n",
       "<style scoped>\n",
       "    .dataframe tbody tr th:only-of-type {\n",
       "        vertical-align: middle;\n",
       "    }\n",
       "\n",
       "    .dataframe tbody tr th {\n",
       "        vertical-align: top;\n",
       "    }\n",
       "\n",
       "    .dataframe thead th {\n",
       "        text-align: right;\n",
       "    }\n",
       "</style>\n",
       "<table border=\"1\" class=\"dataframe\">\n",
       "  <thead>\n",
       "    <tr style=\"text-align: right;\">\n",
       "      <th></th>\n",
       "      <th>User_ID</th>\n",
       "      <th>Cust_name</th>\n",
       "      <th>Product_ID</th>\n",
       "      <th>Gender</th>\n",
       "      <th>Age Group</th>\n",
       "      <th>Age</th>\n",
       "      <th>Marital_Status</th>\n",
       "      <th>State</th>\n",
       "      <th>Zone</th>\n",
       "      <th>Occupation</th>\n",
       "      <th>Product_Category</th>\n",
       "      <th>Orders</th>\n",
       "      <th>Amount</th>\n",
       "      <th>Marriage_Status</th>\n",
       "    </tr>\n",
       "  </thead>\n",
       "  <tbody>\n",
       "    <tr>\n",
       "      <th>18</th>\n",
       "      <td>1001883.0</td>\n",
       "      <td>Praneet</td>\n",
       "      <td>P00029842</td>\n",
       "      <td>M</td>\n",
       "      <td>26-35</td>\n",
       "      <td>54.0</td>\n",
       "      <td>1.0</td>\n",
       "      <td>Uttar Pradesh</td>\n",
       "      <td>Central</td>\n",
       "      <td>Hospitality</td>\n",
       "      <td>Auto</td>\n",
       "      <td>1.0</td>\n",
       "      <td>23568.0</td>\n",
       "      <td>Married</td>\n",
       "    </tr>\n",
       "    <tr>\n",
       "      <th>19</th>\n",
       "      <td>1001883.0</td>\n",
       "      <td>Praneet</td>\n",
       "      <td>P00029842</td>\n",
       "      <td>M</td>\n",
       "      <td>26-35</td>\n",
       "      <td>54.0</td>\n",
       "      <td>1.0</td>\n",
       "      <td>Uttar Pradesh</td>\n",
       "      <td>Central</td>\n",
       "      <td>Hospitality</td>\n",
       "      <td>Auto</td>\n",
       "      <td>1.0</td>\n",
       "      <td>23568.0</td>\n",
       "      <td>Married</td>\n",
       "    </tr>\n",
       "  </tbody>\n",
       "</table>\n",
       "</div>"
      ],
      "text/plain": [
       "      User_ID Cust_name Product_ID Gender Age Group   Age  Marital_Status  \\\n",
       "18  1001883.0   Praneet  P00029842      M     26-35  54.0             1.0   \n",
       "19  1001883.0   Praneet  P00029842      M     26-35  54.0             1.0   \n",
       "\n",
       "            State     Zone   Occupation Product_Category  Orders   Amount  \\\n",
       "18  Uttar Pradesh  Central  Hospitality             Auto     1.0  23568.0   \n",
       "19  Uttar Pradesh  Central  Hospitality             Auto     1.0  23568.0   \n",
       "\n",
       "   Marriage_Status  \n",
       "18         Married  \n",
       "19         Married  "
      ]
     },
     "execution_count": 80,
     "metadata": {},
     "output_type": "execute_result"
    }
   ],
   "source": [
    "# Removing the outliers\n",
    "df = df[(df['Amount'] > lower_limit_amount) & (df['Amount'] < upper_limit_amount)]\n",
    "df.head(2)"
   ]
  },
  {
   "cell_type": "code",
   "execution_count": 81,
   "id": "3d44bccb",
   "metadata": {},
   "outputs": [
    {
     "data": {
      "text/html": [
       "<div>\n",
       "<style scoped>\n",
       "    .dataframe tbody tr th:only-of-type {\n",
       "        vertical-align: middle;\n",
       "    }\n",
       "\n",
       "    .dataframe tbody tr th {\n",
       "        vertical-align: top;\n",
       "    }\n",
       "\n",
       "    .dataframe thead th {\n",
       "        text-align: right;\n",
       "    }\n",
       "</style>\n",
       "<table border=\"1\" class=\"dataframe\">\n",
       "  <thead>\n",
       "    <tr style=\"text-align: right;\">\n",
       "      <th></th>\n",
       "      <th>User_ID</th>\n",
       "      <th>Age</th>\n",
       "      <th>Marital_Status</th>\n",
       "      <th>Orders</th>\n",
       "      <th>Amount</th>\n",
       "    </tr>\n",
       "  </thead>\n",
       "  <tbody>\n",
       "    <tr>\n",
       "      <th>count</th>\n",
       "      <td>1.123400e+04</td>\n",
       "      <td>11234.000000</td>\n",
       "      <td>11234.000000</td>\n",
       "      <td>11234.000000</td>\n",
       "      <td>11234.000000</td>\n",
       "    </tr>\n",
       "    <tr>\n",
       "      <th>mean</th>\n",
       "      <td>1.007453e+06</td>\n",
       "      <td>35.433772</td>\n",
       "      <td>0.419708</td>\n",
       "      <td>2.489496</td>\n",
       "      <td>9452.764638</td>\n",
       "    </tr>\n",
       "    <tr>\n",
       "      <th>std</th>\n",
       "      <td>2.109026e+05</td>\n",
       "      <td>12.759432</td>\n",
       "      <td>0.493533</td>\n",
       "      <td>1.114845</td>\n",
       "      <td>5213.784648</td>\n",
       "    </tr>\n",
       "    <tr>\n",
       "      <th>min</th>\n",
       "      <td>1.000001e+06</td>\n",
       "      <td>12.000000</td>\n",
       "      <td>0.000000</td>\n",
       "      <td>1.000000</td>\n",
       "      <td>188.000000</td>\n",
       "    </tr>\n",
       "    <tr>\n",
       "      <th>25%</th>\n",
       "      <td>1.001496e+06</td>\n",
       "      <td>27.000000</td>\n",
       "      <td>0.000000</td>\n",
       "      <td>2.000000</td>\n",
       "      <td>5443.000000</td>\n",
       "    </tr>\n",
       "    <tr>\n",
       "      <th>50%</th>\n",
       "      <td>1.003064e+06</td>\n",
       "      <td>33.000000</td>\n",
       "      <td>0.000000</td>\n",
       "      <td>2.000000</td>\n",
       "      <td>8109.500000</td>\n",
       "    </tr>\n",
       "    <tr>\n",
       "      <th>75%</th>\n",
       "      <td>1.004429e+06</td>\n",
       "      <td>43.000000</td>\n",
       "      <td>1.000000</td>\n",
       "      <td>3.000000</td>\n",
       "      <td>12681.500000</td>\n",
       "    </tr>\n",
       "    <tr>\n",
       "      <th>max</th>\n",
       "      <td>1.100173e+07</td>\n",
       "      <td>92.000000</td>\n",
       "      <td>1.000000</td>\n",
       "      <td>4.000000</td>\n",
       "      <td>23568.000000</td>\n",
       "    </tr>\n",
       "  </tbody>\n",
       "</table>\n",
       "</div>"
      ],
      "text/plain": [
       "            User_ID           Age  Marital_Status        Orders        Amount\n",
       "count  1.123400e+04  11234.000000    11234.000000  11234.000000  11234.000000\n",
       "mean   1.007453e+06     35.433772        0.419708      2.489496   9452.764638\n",
       "std    2.109026e+05     12.759432        0.493533      1.114845   5213.784648\n",
       "min    1.000001e+06     12.000000        0.000000      1.000000    188.000000\n",
       "25%    1.001496e+06     27.000000        0.000000      2.000000   5443.000000\n",
       "50%    1.003064e+06     33.000000        0.000000      2.000000   8109.500000\n",
       "75%    1.004429e+06     43.000000        1.000000      3.000000  12681.500000\n",
       "max    1.100173e+07     92.000000        1.000000      4.000000  23568.000000"
      ]
     },
     "execution_count": 81,
     "metadata": {},
     "output_type": "execute_result"
    }
   ],
   "source": [
    "df.describe()"
   ]
  },
  {
   "cell_type": "markdown",
   "id": "256ced34",
   "metadata": {},
   "source": [
    "### Cleaned Data"
   ]
  },
  {
   "cell_type": "code",
   "execution_count": 82,
   "id": "590c7571",
   "metadata": {},
   "outputs": [],
   "source": [
    "df.to_csv('C:\\Work\\YouTube\\Diwali_Sales_Data\\data_cleaned.csv')"
   ]
  },
  {
   "cell_type": "code",
   "execution_count": null,
   "id": "d01681cb",
   "metadata": {},
   "outputs": [],
   "source": []
  }
 ],
 "metadata": {
  "kernelspec": {
   "display_name": "Python 3 (ipykernel)",
   "language": "python",
   "name": "python3"
  },
  "language_info": {
   "codemirror_mode": {
    "name": "ipython",
    "version": 3
   },
   "file_extension": ".py",
   "mimetype": "text/x-python",
   "name": "python",
   "nbconvert_exporter": "python",
   "pygments_lexer": "ipython3",
   "version": "3.9.12"
  }
 },
 "nbformat": 4,
 "nbformat_minor": 5
}
