{
 "cells": [
  {
   "cell_type": "code",
   "execution_count": 44,
   "id": "dd2d34e7",
   "metadata": {},
   "outputs": [],
   "source": [
    "# Importing the liabraries\n",
    "import pandas as pd\n",
    "import numpy as np\n",
    "import matplotlib.pyplot as plt\n",
    "import seaborn as sns"
   ]
  },
  {
   "cell_type": "code",
   "execution_count": 45,
   "id": "a9f9362f",
   "metadata": {},
   "outputs": [
    {
     "data": {
      "text/html": [
       "<div>\n",
       "<style scoped>\n",
       "    .dataframe tbody tr th:only-of-type {\n",
       "        vertical-align: middle;\n",
       "    }\n",
       "\n",
       "    .dataframe tbody tr th {\n",
       "        vertical-align: top;\n",
       "    }\n",
       "\n",
       "    .dataframe thead th {\n",
       "        text-align: right;\n",
       "    }\n",
       "</style>\n",
       "<table border=\"1\" class=\"dataframe\">\n",
       "  <thead>\n",
       "    <tr style=\"text-align: right;\">\n",
       "      <th></th>\n",
       "      <th>Unnamed: 0</th>\n",
       "      <th>User_ID</th>\n",
       "      <th>Cust_name</th>\n",
       "      <th>Product_ID</th>\n",
       "      <th>Gender</th>\n",
       "      <th>Age Group</th>\n",
       "      <th>Age</th>\n",
       "      <th>Marital_Status</th>\n",
       "      <th>State</th>\n",
       "      <th>Zone</th>\n",
       "      <th>Occupation</th>\n",
       "      <th>Product_Category</th>\n",
       "      <th>Orders</th>\n",
       "      <th>Amount</th>\n",
       "      <th>Marriage_Status</th>\n",
       "    </tr>\n",
       "  </thead>\n",
       "  <tbody>\n",
       "    <tr>\n",
       "      <th>0</th>\n",
       "      <td>18</td>\n",
       "      <td>1001883.0</td>\n",
       "      <td>Praneet</td>\n",
       "      <td>P00029842</td>\n",
       "      <td>M</td>\n",
       "      <td>26-35</td>\n",
       "      <td>54.0</td>\n",
       "      <td>1.0</td>\n",
       "      <td>Uttar Pradesh</td>\n",
       "      <td>Central</td>\n",
       "      <td>Hospitality</td>\n",
       "      <td>Auto</td>\n",
       "      <td>1.0</td>\n",
       "      <td>23568.0</td>\n",
       "      <td>Married</td>\n",
       "    </tr>\n",
       "    <tr>\n",
       "      <th>1</th>\n",
       "      <td>19</td>\n",
       "      <td>1001883.0</td>\n",
       "      <td>Praneet</td>\n",
       "      <td>P00029842</td>\n",
       "      <td>M</td>\n",
       "      <td>26-35</td>\n",
       "      <td>54.0</td>\n",
       "      <td>1.0</td>\n",
       "      <td>Uttar Pradesh</td>\n",
       "      <td>Central</td>\n",
       "      <td>Hospitality</td>\n",
       "      <td>Auto</td>\n",
       "      <td>1.0</td>\n",
       "      <td>23568.0</td>\n",
       "      <td>Married</td>\n",
       "    </tr>\n",
       "  </tbody>\n",
       "</table>\n",
       "</div>"
      ],
      "text/plain": [
       "   Unnamed: 0    User_ID Cust_name Product_ID Gender Age Group   Age  \\\n",
       "0          18  1001883.0   Praneet  P00029842      M     26-35  54.0   \n",
       "1          19  1001883.0   Praneet  P00029842      M     26-35  54.0   \n",
       "\n",
       "   Marital_Status          State     Zone   Occupation Product_Category  \\\n",
       "0             1.0  Uttar Pradesh  Central  Hospitality             Auto   \n",
       "1             1.0  Uttar Pradesh  Central  Hospitality             Auto   \n",
       "\n",
       "   Orders   Amount Marriage_Status  \n",
       "0     1.0  23568.0         Married  \n",
       "1     1.0  23568.0         Married  "
      ]
     },
     "execution_count": 45,
     "metadata": {},
     "output_type": "execute_result"
    }
   ],
   "source": [
    "# Fetching the data\n",
    "data_path = r'C:\\Work\\YouTube\\Diwali_Sales_Data\\data_cleaned.csv'\n",
    "data = pd.read_csv(data_path, encoding='unicode_escape')\n",
    "data.head(2)"
   ]
  },
  {
   "cell_type": "code",
   "execution_count": 46,
   "id": "b636932a",
   "metadata": {},
   "outputs": [
    {
     "name": "stdout",
     "output_type": "stream",
     "text": [
      "<class 'pandas.core.frame.DataFrame'>\n",
      "RangeIndex: 11234 entries, 0 to 11233\n",
      "Data columns (total 15 columns):\n",
      " #   Column            Non-Null Count  Dtype  \n",
      "---  ------            --------------  -----  \n",
      " 0   Unnamed: 0        11234 non-null  int64  \n",
      " 1   User_ID           11234 non-null  float64\n",
      " 2   Cust_name         11234 non-null  object \n",
      " 3   Product_ID        11234 non-null  object \n",
      " 4   Gender            11234 non-null  object \n",
      " 5   Age Group         11234 non-null  object \n",
      " 6   Age               11234 non-null  float64\n",
      " 7   Marital_Status    11234 non-null  float64\n",
      " 8   State             11234 non-null  object \n",
      " 9   Zone              11234 non-null  object \n",
      " 10  Occupation        11234 non-null  object \n",
      " 11  Product_Category  11234 non-null  object \n",
      " 12  Orders            11234 non-null  float64\n",
      " 13  Amount            11234 non-null  float64\n",
      " 14  Marriage_Status   11234 non-null  object \n",
      "dtypes: float64(5), int64(1), object(9)\n",
      "memory usage: 1.3+ MB\n"
     ]
    }
   ],
   "source": [
    "data.info()"
   ]
  },
  {
   "cell_type": "code",
   "execution_count": 47,
   "id": "d9c693ea",
   "metadata": {},
   "outputs": [],
   "source": [
    "# Creating the copy of dataset\n",
    "df = data.copy()"
   ]
  },
  {
   "cell_type": "code",
   "execution_count": 48,
   "id": "49861a55",
   "metadata": {},
   "outputs": [],
   "source": [
    "df.drop([\"Unnamed: 0\"], axis = 1, inplace = True)"
   ]
  },
  {
   "cell_type": "code",
   "execution_count": 49,
   "id": "577eca46",
   "metadata": {},
   "outputs": [],
   "source": [
    "# Final Data\n",
    "df.to_csv(r\"C:\\Work\\YouTube\\Diwali_Sales_Data\\final_data.csv\", index = False)"
   ]
  },
  {
   "cell_type": "markdown",
   "id": "a2cb3af0",
   "metadata": {},
   "source": [
    "## Explotary Data Analytics"
   ]
  },
  {
   "cell_type": "markdown",
   "id": "2b4cbacc",
   "metadata": {},
   "source": [
    "### Statistical Analysis"
   ]
  },
  {
   "cell_type": "code",
   "execution_count": 50,
   "id": "4b989044",
   "metadata": {},
   "outputs": [
    {
     "data": {
      "text/html": [
       "<div>\n",
       "<style scoped>\n",
       "    .dataframe tbody tr th:only-of-type {\n",
       "        vertical-align: middle;\n",
       "    }\n",
       "\n",
       "    .dataframe tbody tr th {\n",
       "        vertical-align: top;\n",
       "    }\n",
       "\n",
       "    .dataframe thead th {\n",
       "        text-align: right;\n",
       "    }\n",
       "</style>\n",
       "<table border=\"1\" class=\"dataframe\">\n",
       "  <thead>\n",
       "    <tr style=\"text-align: right;\">\n",
       "      <th></th>\n",
       "      <th>User_ID</th>\n",
       "      <th>Age</th>\n",
       "      <th>Marital_Status</th>\n",
       "      <th>Orders</th>\n",
       "      <th>Amount</th>\n",
       "    </tr>\n",
       "  </thead>\n",
       "  <tbody>\n",
       "    <tr>\n",
       "      <th>count</th>\n",
       "      <td>1.123400e+04</td>\n",
       "      <td>11234.000000</td>\n",
       "      <td>11234.000000</td>\n",
       "      <td>11234.000000</td>\n",
       "      <td>11234.000000</td>\n",
       "    </tr>\n",
       "    <tr>\n",
       "      <th>mean</th>\n",
       "      <td>1.007453e+06</td>\n",
       "      <td>35.433772</td>\n",
       "      <td>0.419708</td>\n",
       "      <td>2.489496</td>\n",
       "      <td>9452.764638</td>\n",
       "    </tr>\n",
       "    <tr>\n",
       "      <th>std</th>\n",
       "      <td>2.109026e+05</td>\n",
       "      <td>12.759432</td>\n",
       "      <td>0.493533</td>\n",
       "      <td>1.114845</td>\n",
       "      <td>5213.784648</td>\n",
       "    </tr>\n",
       "    <tr>\n",
       "      <th>min</th>\n",
       "      <td>1.000001e+06</td>\n",
       "      <td>12.000000</td>\n",
       "      <td>0.000000</td>\n",
       "      <td>1.000000</td>\n",
       "      <td>188.000000</td>\n",
       "    </tr>\n",
       "    <tr>\n",
       "      <th>25%</th>\n",
       "      <td>1.001496e+06</td>\n",
       "      <td>27.000000</td>\n",
       "      <td>0.000000</td>\n",
       "      <td>2.000000</td>\n",
       "      <td>5443.000000</td>\n",
       "    </tr>\n",
       "    <tr>\n",
       "      <th>50%</th>\n",
       "      <td>1.003064e+06</td>\n",
       "      <td>33.000000</td>\n",
       "      <td>0.000000</td>\n",
       "      <td>2.000000</td>\n",
       "      <td>8109.500000</td>\n",
       "    </tr>\n",
       "    <tr>\n",
       "      <th>75%</th>\n",
       "      <td>1.004429e+06</td>\n",
       "      <td>43.000000</td>\n",
       "      <td>1.000000</td>\n",
       "      <td>3.000000</td>\n",
       "      <td>12681.500000</td>\n",
       "    </tr>\n",
       "    <tr>\n",
       "      <th>max</th>\n",
       "      <td>1.100173e+07</td>\n",
       "      <td>92.000000</td>\n",
       "      <td>1.000000</td>\n",
       "      <td>4.000000</td>\n",
       "      <td>23568.000000</td>\n",
       "    </tr>\n",
       "  </tbody>\n",
       "</table>\n",
       "</div>"
      ],
      "text/plain": [
       "            User_ID           Age  Marital_Status        Orders        Amount\n",
       "count  1.123400e+04  11234.000000    11234.000000  11234.000000  11234.000000\n",
       "mean   1.007453e+06     35.433772        0.419708      2.489496   9452.764638\n",
       "std    2.109026e+05     12.759432        0.493533      1.114845   5213.784648\n",
       "min    1.000001e+06     12.000000        0.000000      1.000000    188.000000\n",
       "25%    1.001496e+06     27.000000        0.000000      2.000000   5443.000000\n",
       "50%    1.003064e+06     33.000000        0.000000      2.000000   8109.500000\n",
       "75%    1.004429e+06     43.000000        1.000000      3.000000  12681.500000\n",
       "max    1.100173e+07     92.000000        1.000000      4.000000  23568.000000"
      ]
     },
     "execution_count": 50,
     "metadata": {},
     "output_type": "execute_result"
    }
   ],
   "source": [
    "df.describe()"
   ]
  },
  {
   "cell_type": "markdown",
   "id": "04bbec13",
   "metadata": {},
   "source": [
    "### Data Visualization"
   ]
  },
  {
   "cell_type": "markdown",
   "id": "f8141124",
   "metadata": {},
   "source": [
    "### Analysis Parameter\n",
    "- Gender\n",
    "- Marriage_Status\n",
    "- Age_Group\n",
    "- Product_category\n",
    "- State\n",
    "- Product_id\n",
    "- Occupation"
   ]
  },
  {
   "cell_type": "markdown",
   "id": "135cafa3",
   "metadata": {},
   "source": [
    "### Gender Wise Analysis"
   ]
  },
  {
   "cell_type": "code",
   "execution_count": 51,
   "id": "059ea08d",
   "metadata": {},
   "outputs": [
    {
     "name": "stdout",
     "output_type": "stream",
     "text": [
      "Gender wise order count: \n",
      "   Gender  Orders\n",
      "0      F    7835\n",
      "1      M    3399\n",
      "Gender wise purchase power: \n",
      "   Gender       Amount\n",
      "0      F  74422989.94\n",
      "1      M  31769368.00\n"
     ]
    }
   ],
   "source": [
    "# Plot Data\n",
    "data_gender_count = df.groupby(['Gender'], as_index = False)['Orders'].count()\n",
    "print('Gender wise order count: \\n', data_gender_count)\n",
    "data_gender_amount = df.groupby(['Gender'], as_index = False)['Amount'].sum()\n",
    "print('Gender wise purchase power: \\n', data_gender_amount)"
   ]
  },
  {
   "cell_type": "code",
   "execution_count": 52,
   "id": "31846cf3",
   "metadata": {},
   "outputs": [
    {
     "data": {
      "image/png": "[encoded data removed]",
      "text/plain": [
       "<Figure size 1440x432 with 2 Axes>"
      ]
     },
     "metadata": {
      "needs_background": "light"
     },
     "output_type": "display_data"
    }
   ],
   "source": [
    "# Plotting the Gender data\n",
    "fig, ax = plt.subplots(1,2, figsize = (20, 6))\n",
    "ax[0].pie(x = data_gender_count['Orders'],\n",
    "         labels = data_gender_count['Gender'], autopct = '%1.2f%%')\n",
    "ax[0].set_title('Gender wise Order Count')\n",
    "\n",
    "#Bar plot\n",
    "sns.barplot(x = 'Gender', y = 'Amount', data = data_gender_amount, ax = ax[1])\n",
    "ax[1].set_title('Gender wise Purchase power')\n",
    "\n",
    "plt.show()"
   ]
  },
  {
   "cell_type": "markdown",
   "id": "b9a29456",
   "metadata": {},
   "source": [
    "### Conclusion\n",
    "Females places more orders and their purchase power is also higher."
   ]
  },
  {
   "cell_type": "markdown",
   "id": "2be6699f",
   "metadata": {},
   "source": [
    "### Marriage status wise analysis"
   ]
  },
  {
   "cell_type": "code",
   "execution_count": 53,
   "id": "05c43970",
   "metadata": {},
   "outputs": [
    {
     "data": {
      "text/html": [
       "<div>\n",
       "<style scoped>\n",
       "    .dataframe tbody tr th:only-of-type {\n",
       "        vertical-align: middle;\n",
       "    }\n",
       "\n",
       "    .dataframe tbody tr th {\n",
       "        vertical-align: top;\n",
       "    }\n",
       "\n",
       "    .dataframe thead th {\n",
       "        text-align: right;\n",
       "    }\n",
       "</style>\n",
       "<table border=\"1\" class=\"dataframe\">\n",
       "  <thead>\n",
       "    <tr style=\"text-align: right;\">\n",
       "      <th></th>\n",
       "      <th>Marriage_Status</th>\n",
       "      <th>Amount</th>\n",
       "    </tr>\n",
       "  </thead>\n",
       "  <tbody>\n",
       "    <tr>\n",
       "      <th>0</th>\n",
       "      <td>Married</td>\n",
       "      <td>44003938.00</td>\n",
       "    </tr>\n",
       "    <tr>\n",
       "      <th>1</th>\n",
       "      <td>Unmarried</td>\n",
       "      <td>62188419.94</td>\n",
       "    </tr>\n",
       "  </tbody>\n",
       "</table>\n",
       "</div>"
      ],
      "text/plain": [
       "  Marriage_Status       Amount\n",
       "0         Married  44003938.00\n",
       "1       Unmarried  62188419.94"
      ]
     },
     "execution_count": 53,
     "metadata": {},
     "output_type": "execute_result"
    }
   ],
   "source": [
    "# Plot data\n",
    "data_marraige_status_amount = df.groupby(['Marriage_Status'], as_index = False)['Amount'].sum()\n",
    "data_marraige_status_amount"
   ]
  },
  {
   "cell_type": "code",
   "execution_count": 54,
   "id": "2c5e6853",
   "metadata": {},
   "outputs": [
    {
     "data": {
      "image/png": "[encoded data removed]",
      "text/plain": [
       "<Figure size 1440x432 with 2 Axes>"
      ]
     },
     "metadata": {
      "needs_background": "light"
     },
     "output_type": "display_data"
    }
   ],
   "source": [
    "# Ploting the Marriage_Status data\n",
    "fig, ax = plt.subplots(1,2, figsize = (20,6))\n",
    "sns.countplot(x = 'Marriage_Status', hue = 'Gender', data = df, ax= ax[0])\n",
    "ax[0].set_title('Order status- Marriage Status wise')\n",
    "sns.barplot(x = 'Amount', y = 'Marriage_Status', data = data_marraige_status_amount, orient = 'h', ax = ax[1])\n",
    "ax[1].set_title('Purchase power vs Marriage_Status')\n",
    "plt.show()"
   ]
  },
  {
   "cell_type": "markdown",
   "id": "0d305422",
   "metadata": {},
   "source": [
    "### Conclusion\n",
    "Unmarried female places more order, then married female, and then unmarried male."
   ]
  },
  {
   "cell_type": "markdown",
   "id": "1d4e906a",
   "metadata": {},
   "source": [
    "### Age group wise analysis"
   ]
  },
  {
   "cell_type": "code",
   "execution_count": 16,
   "id": "21393fd1",
   "metadata": {},
   "outputs": [
    {
     "data": {
      "text/html": [
       "<div>\n",
       "<style scoped>\n",
       "    .dataframe tbody tr th:only-of-type {\n",
       "        vertical-align: middle;\n",
       "    }\n",
       "\n",
       "    .dataframe tbody tr th {\n",
       "        vertical-align: top;\n",
       "    }\n",
       "\n",
       "    .dataframe thead th {\n",
       "        text-align: right;\n",
       "    }\n",
       "</style>\n",
       "<table border=\"1\" class=\"dataframe\">\n",
       "  <thead>\n",
       "    <tr style=\"text-align: right;\">\n",
       "      <th></th>\n",
       "      <th>Age Group</th>\n",
       "      <th>Amount</th>\n",
       "    </tr>\n",
       "  </thead>\n",
       "  <tbody>\n",
       "    <tr>\n",
       "      <th>0</th>\n",
       "      <td>0-17</td>\n",
       "      <td>2696529.00</td>\n",
       "    </tr>\n",
       "    <tr>\n",
       "      <th>1</th>\n",
       "      <td>18-25</td>\n",
       "      <td>17032196.00</td>\n",
       "    </tr>\n",
       "    <tr>\n",
       "      <th>2</th>\n",
       "      <td>26-35</td>\n",
       "      <td>42603794.95</td>\n",
       "    </tr>\n",
       "    <tr>\n",
       "      <th>3</th>\n",
       "      <td>36-45</td>\n",
       "      <td>22234332.99</td>\n",
       "    </tr>\n",
       "    <tr>\n",
       "      <th>4</th>\n",
       "      <td>46-50</td>\n",
       "      <td>9245595.00</td>\n",
       "    </tr>\n",
       "    <tr>\n",
       "      <th>5</th>\n",
       "      <td>51-55</td>\n",
       "      <td>8278320.00</td>\n",
       "    </tr>\n",
       "    <tr>\n",
       "      <th>6</th>\n",
       "      <td>55+</td>\n",
       "      <td>4101590.00</td>\n",
       "    </tr>\n",
       "  </tbody>\n",
       "</table>\n",
       "</div>"
      ],
      "text/plain": [
       "  Age Group       Amount\n",
       "0      0-17   2696529.00\n",
       "1     18-25  17032196.00\n",
       "2     26-35  42603794.95\n",
       "3     36-45  22234332.99\n",
       "4     46-50   9245595.00\n",
       "5     51-55   8278320.00\n",
       "6       55+   4101590.00"
      ]
     },
     "execution_count": 16,
     "metadata": {},
     "output_type": "execute_result"
    }
   ],
   "source": [
    "# Plotting Age Group \n",
    "data_age_group_amount = df.groupby(['Age Group'], as_index = False)['Amount'].sum()\n",
    "data_age_group_amount"
   ]
  },
  {
   "cell_type": "code",
   "execution_count": 18,
   "id": "a60f5239",
   "metadata": {},
   "outputs": [
    {
     "data": {
      "image/png": "[encoded data removed]",
      "text/plain": [
       "<Figure size 1440x432 with 2 Axes>"
      ]
     },
     "metadata": {
      "needs_background": "light"
     },
     "output_type": "display_data"
    }
   ],
   "source": [
    "# Plot the data\n",
    "fig, ax = plt.subplots(1,2, figsize = (20,6))\n",
    "sns.countplot(x = 'Age Group', data = df, ax= ax[0])\n",
    "ax[0].set_title('Order status- Age Group')\n",
    "sns.barplot(x = 'Amount', y = 'Age Group', data = data_age_group_amount, orient = 'h', ax = ax[1])\n",
    "ax[1].set_title('Purchase power vs Age Group')\n",
    "plt.show()"
   ]
  },
  {
   "cell_type": "markdown",
   "id": "0024f667",
   "metadata": {},
   "source": [
    "### Conclusion\n",
    "26-35 Age Group people orders and purchased mostly than others."
   ]
  },
  {
   "cell_type": "markdown",
   "id": "0b7546d2",
   "metadata": {},
   "source": [
    "### Product_Category Wise Analysis"
   ]
  },
  {
   "cell_type": "code",
   "execution_count": 41,
   "id": "d9894080",
   "metadata": {},
   "outputs": [
    {
     "data": {
      "text/html": [
       "<div>\n",
       "<style scoped>\n",
       "    .dataframe tbody tr th:only-of-type {\n",
       "        vertical-align: middle;\n",
       "    }\n",
       "\n",
       "    .dataframe tbody tr th {\n",
       "        vertical-align: top;\n",
       "    }\n",
       "\n",
       "    .dataframe thead th {\n",
       "        text-align: right;\n",
       "    }\n",
       "</style>\n",
       "<table border=\"1\" class=\"dataframe\">\n",
       "  <thead>\n",
       "    <tr style=\"text-align: right;\">\n",
       "      <th></th>\n",
       "      <th>Product_Category</th>\n",
       "      <th>Amount</th>\n",
       "    </tr>\n",
       "  </thead>\n",
       "  <tbody>\n",
       "    <tr>\n",
       "      <th>6</th>\n",
       "      <td>Food</td>\n",
       "      <td>33933883.50</td>\n",
       "    </tr>\n",
       "    <tr>\n",
       "      <th>3</th>\n",
       "      <td>Clothing &amp; Apparel</td>\n",
       "      <td>16484472.00</td>\n",
       "    </tr>\n",
       "    <tr>\n",
       "      <th>7</th>\n",
       "      <td>Footwear &amp; Shoes</td>\n",
       "      <td>16009057.45</td>\n",
       "    </tr>\n",
       "    <tr>\n",
       "      <th>5</th>\n",
       "      <td>Electronics &amp; Gadgets</td>\n",
       "      <td>15607657.00</td>\n",
       "    </tr>\n",
       "    <tr>\n",
       "      <th>8</th>\n",
       "      <td>Furniture</td>\n",
       "      <td>5481325.99</td>\n",
       "    </tr>\n",
       "  </tbody>\n",
       "</table>\n",
       "</div>"
      ],
      "text/plain": [
       "        Product_Category       Amount\n",
       "6                   Food  33933883.50\n",
       "3     Clothing & Apparel  16484472.00\n",
       "7       Footwear & Shoes  16009057.45\n",
       "5  Electronics & Gadgets  15607657.00\n",
       "8              Furniture   5481325.99"
      ]
     },
     "execution_count": 41,
     "metadata": {},
     "output_type": "execute_result"
    }
   ],
   "source": [
    "# Plotting Age Group \n",
    "data_product_category_amount = df.groupby(['Product_Category'], \n",
    "                                          as_index = False)['Amount'].sum().sort_values(by = 'Amount', ascending = False).head()\n",
    "data_product_category_amount"
   ]
  },
  {
   "cell_type": "code",
   "execution_count": 42,
   "id": "e936ae04",
   "metadata": {},
   "outputs": [
    {
     "data": {
      "image/png": "[encoded data removed]",
      "text/plain": [
       "<Figure size 1440x432 with 2 Axes>"
      ]
     },
     "metadata": {
      "needs_background": "light"
     },
     "output_type": "display_data"
    }
   ],
   "source": [
    "# Ploting the top 5 performing category\n",
    "fig, ax = plt.subplots(1,2, figsize = (20,6))\n",
    "sns.countplot(x = 'Product_Category', data = df, \n",
    "              order = df['Product_Category'].value_counts().nlargest(5).index, ax= ax[0])\n",
    "ax[0].set_title('Order status- Product_Category')\n",
    "\n",
    "sns.barplot(x = 'Amount', y = 'Product_Category', data = data_product_category_amount, orient = 'h', ax = ax[1])\n",
    "ax[1].set_title('Purchase power vs Product_Category')\n",
    "plt.show()"
   ]
  },
  {
   "cell_type": "markdown",
   "id": "5b7f7984",
   "metadata": {},
   "source": [
    "### Conclusion\n",
    "Highest selling Product is Food,then Clothing & Apparel and then Footwear & Shoes."
   ]
  },
  {
   "cell_type": "markdown",
   "id": "bc32a8d1",
   "metadata": {},
   "source": [
    "### State Wise Analysis"
   ]
  },
  {
   "cell_type": "code",
   "execution_count": 33,
   "id": "a6c79e58",
   "metadata": {},
   "outputs": [
    {
     "data": {
      "text/html": [
       "<div>\n",
       "<style scoped>\n",
       "    .dataframe tbody tr th:only-of-type {\n",
       "        vertical-align: middle;\n",
       "    }\n",
       "\n",
       "    .dataframe tbody tr th {\n",
       "        vertical-align: top;\n",
       "    }\n",
       "\n",
       "    .dataframe thead th {\n",
       "        text-align: right;\n",
       "    }\n",
       "</style>\n",
       "<table border=\"1\" class=\"dataframe\">\n",
       "  <thead>\n",
       "    <tr style=\"text-align: right;\">\n",
       "      <th></th>\n",
       "      <th>State</th>\n",
       "      <th>Amount</th>\n",
       "    </tr>\n",
       "  </thead>\n",
       "  <tbody>\n",
       "    <tr>\n",
       "      <th>14</th>\n",
       "      <td>Uttar Pradesh</td>\n",
       "      <td>19360148.00</td>\n",
       "    </tr>\n",
       "    <tr>\n",
       "      <th>10</th>\n",
       "      <td>Maharashtra</td>\n",
       "      <td>14400762.00</td>\n",
       "    </tr>\n",
       "    <tr>\n",
       "      <th>7</th>\n",
       "      <td>Karnataka</td>\n",
       "      <td>13705829.00</td>\n",
       "    </tr>\n",
       "    <tr>\n",
       "      <th>2</th>\n",
       "      <td>Delhi</td>\n",
       "      <td>11554343.95</td>\n",
       "    </tr>\n",
       "    <tr>\n",
       "      <th>9</th>\n",
       "      <td>Madhya Pradesh</td>\n",
       "      <td>8100944.00</td>\n",
       "    </tr>\n",
       "  </tbody>\n",
       "</table>\n",
       "</div>"
      ],
      "text/plain": [
       "             State       Amount\n",
       "14   Uttar Pradesh  19360148.00\n",
       "10     Maharashtra  14400762.00\n",
       "7        Karnataka  13705829.00\n",
       "2            Delhi  11554343.95\n",
       "9   Madhya Pradesh   8100944.00"
      ]
     },
     "execution_count": 33,
     "metadata": {},
     "output_type": "execute_result"
    }
   ],
   "source": [
    "# Plotting State \n",
    "data_state_amount = df.groupby(['State'], \n",
    "                                          as_index = False)['Amount'].sum().sort_values(by = ['Amount'], ascending = False)[:5]\n",
    "data_state_amount"
   ]
  },
  {
   "cell_type": "code",
   "execution_count": 34,
   "id": "ac8b44da",
   "metadata": {},
   "outputs": [
    {
     "data": {
      "image/png": "[encoded data removed]",
      "text/plain": [
       "<Figure size 1440x432 with 2 Axes>"
      ]
     },
     "metadata": {
      "needs_background": "light"
     },
     "output_type": "display_data"
    }
   ],
   "source": [
    "# Ploting the top 5 performing state\n",
    "fig, ax = plt.subplots(1,2, figsize = (20,6))\n",
    "sns.countplot(x = 'State', data = df, \n",
    "              order = df['State'].value_counts().nlargest(5).index, ax= ax[0])\n",
    "ax[0].set_title('Order status- State')\n",
    "\n",
    "sns.barplot(x = 'Amount', y = 'State', data = data_state_amount, orient = 'h', ax = ax[1])\n",
    "ax[1].set_title('Purchase power vs State')\n",
    "plt.show()"
   ]
  },
  {
   "cell_type": "markdown",
   "id": "b3bb66a6",
   "metadata": {},
   "source": [
    "#### Conclusion\n",
    "Uttar Pradesh is the highest performing State, then Maharashtra, then Karnataka."
   ]
  },
  {
   "cell_type": "markdown",
   "id": "1e445143",
   "metadata": {},
   "source": [
    "### Product_id Wise Analysis"
   ]
  },
  {
   "cell_type": "code",
   "execution_count": 35,
   "id": "c9f546a0",
   "metadata": {},
   "outputs": [
    {
     "data": {
      "text/html": [
       "<div>\n",
       "<style scoped>\n",
       "    .dataframe tbody tr th:only-of-type {\n",
       "        vertical-align: middle;\n",
       "    }\n",
       "\n",
       "    .dataframe tbody tr th {\n",
       "        vertical-align: top;\n",
       "    }\n",
       "\n",
       "    .dataframe thead th {\n",
       "        text-align: right;\n",
       "    }\n",
       "</style>\n",
       "<table border=\"1\" class=\"dataframe\">\n",
       "  <thead>\n",
       "    <tr style=\"text-align: right;\">\n",
       "      <th></th>\n",
       "      <th>Product_ID</th>\n",
       "      <th>Amount</th>\n",
       "    </tr>\n",
       "  </thead>\n",
       "  <tbody>\n",
       "    <tr>\n",
       "      <th>1678</th>\n",
       "      <td>P00265242</td>\n",
       "      <td>561461.0</td>\n",
       "    </tr>\n",
       "    <tr>\n",
       "      <th>1146</th>\n",
       "      <td>P00184942</td>\n",
       "      <td>401816.0</td>\n",
       "    </tr>\n",
       "    <tr>\n",
       "      <th>644</th>\n",
       "      <td>P00110942</td>\n",
       "      <td>400899.0</td>\n",
       "    </tr>\n",
       "    <tr>\n",
       "      <th>396</th>\n",
       "      <td>P00059442</td>\n",
       "      <td>359230.0</td>\n",
       "    </tr>\n",
       "    <tr>\n",
       "      <th>654</th>\n",
       "      <td>P00112142</td>\n",
       "      <td>341020.0</td>\n",
       "    </tr>\n",
       "  </tbody>\n",
       "</table>\n",
       "</div>"
      ],
      "text/plain": [
       "     Product_ID    Amount\n",
       "1678  P00265242  561461.0\n",
       "1146  P00184942  401816.0\n",
       "644   P00110942  400899.0\n",
       "396   P00059442  359230.0\n",
       "654   P00112142  341020.0"
      ]
     },
     "execution_count": 35,
     "metadata": {},
     "output_type": "execute_result"
    }
   ],
   "source": [
    "# Plotting Product_id\n",
    "data_product_id_amount = df.groupby(['Product_ID'], \n",
    "                                          as_index = False)['Amount'].sum().sort_values(by = ['Amount'], ascending = False)[:5]\n",
    "data_product_id_amount"
   ]
  },
  {
   "cell_type": "code",
   "execution_count": 36,
   "id": "328f5481",
   "metadata": {},
   "outputs": [
    {
     "data": {
      "image/png": "[encoded data removed]",
      "text/plain": [
       "<Figure size 1440x432 with 2 Axes>"
      ]
     },
     "metadata": {
      "needs_background": "light"
     },
     "output_type": "display_data"
    }
   ],
   "source": [
    "# Ploting the top 5 performing product_id\n",
    "fig, ax = plt.subplots(1,2, figsize = (20,6))\n",
    "sns.countplot(x = 'Product_ID', data = df, \n",
    "              order = df['Product_ID'].value_counts().nlargest(5).index, ax= ax[0])\n",
    "ax[0].set_title('Order status- Product_ID')\n",
    "\n",
    "sns.barplot(x = 'Amount', y = 'Product_ID', data = data_product_id_amount, orient = 'h', ax = ax[1])\n",
    "ax[1].set_title('Purchase power vs Product_ID')\n",
    "plt.show()"
   ]
  },
  {
   "cell_type": "markdown",
   "id": "f28d2b01",
   "metadata": {},
   "source": [
    "### Occupation Wise Analysis"
   ]
  },
  {
   "cell_type": "code",
   "execution_count": 37,
   "id": "45fc839d",
   "metadata": {},
   "outputs": [
    {
     "data": {
      "text/html": [
       "<div>\n",
       "<style scoped>\n",
       "    .dataframe tbody tr th:only-of-type {\n",
       "        vertical-align: middle;\n",
       "    }\n",
       "\n",
       "    .dataframe tbody tr th {\n",
       "        vertical-align: top;\n",
       "    }\n",
       "\n",
       "    .dataframe thead th {\n",
       "        text-align: right;\n",
       "    }\n",
       "</style>\n",
       "<table border=\"1\" class=\"dataframe\">\n",
       "  <thead>\n",
       "    <tr style=\"text-align: right;\">\n",
       "      <th></th>\n",
       "      <th>Occupation</th>\n",
       "      <th>Amount</th>\n",
       "    </tr>\n",
       "  </thead>\n",
       "  <tbody>\n",
       "    <tr>\n",
       "      <th>10</th>\n",
       "      <td>IT Sector</td>\n",
       "      <td>14902488.00</td>\n",
       "    </tr>\n",
       "    <tr>\n",
       "      <th>8</th>\n",
       "      <td>Healthcare</td>\n",
       "      <td>12989061.49</td>\n",
       "    </tr>\n",
       "    <tr>\n",
       "      <th>2</th>\n",
       "      <td>Aviation</td>\n",
       "      <td>12596751.00</td>\n",
       "    </tr>\n",
       "    <tr>\n",
       "      <th>3</th>\n",
       "      <td>Banking</td>\n",
       "      <td>10767299.45</td>\n",
       "    </tr>\n",
       "    <tr>\n",
       "      <th>7</th>\n",
       "      <td>Govt</td>\n",
       "      <td>8425182.00</td>\n",
       "    </tr>\n",
       "  </tbody>\n",
       "</table>\n",
       "</div>"
      ],
      "text/plain": [
       "    Occupation       Amount\n",
       "10   IT Sector  14902488.00\n",
       "8   Healthcare  12989061.49\n",
       "2     Aviation  12596751.00\n",
       "3      Banking  10767299.45\n",
       "7         Govt   8425182.00"
      ]
     },
     "execution_count": 37,
     "metadata": {},
     "output_type": "execute_result"
    }
   ],
   "source": [
    "# Plotting Occupation\n",
    "data_occupation_amount = df.groupby(['Occupation'], \n",
    "                                          as_index = False)['Amount'].sum().sort_values(by = ['Amount'], ascending = False)[:5]\n",
    "data_occupation_amount"
   ]
  },
  {
   "cell_type": "code",
   "execution_count": 38,
   "id": "de305316",
   "metadata": {},
   "outputs": [
    {
     "data": {
      "image/png": "[encoded data removed]",
      "text/plain": [
       "<Figure size 1440x432 with 2 Axes>"
      ]
     },
     "metadata": {
      "needs_background": "light"
     },
     "output_type": "display_data"
    }
   ],
   "source": [
    "# Ploting the top 5 performing occupation\n",
    "fig, ax = plt.subplots(1,2, figsize = (20,6))\n",
    "sns.countplot(x = 'Occupation', data = df, \n",
    "              order = df['Occupation'].value_counts().nlargest(5).index, ax= ax[0])\n",
    "ax[0].set_title('Order_Count - Occupation')\n",
    "\n",
    "sns.barplot(x = 'Amount', y = 'Occupation', data = data_occupation_amount, orient = 'h', ax = ax[1])\n",
    "ax[1].set_title('Purchase power vs Occupation')\n",
    "plt.show()"
   ]
  },
  {
   "cell_type": "markdown",
   "id": "06167ed2",
   "metadata": {},
   "source": [
    "#### Conclusion\n",
    "IT Sector is the highest performing Occupation, then Healthcare, then Aviation."
   ]
  },
  {
   "cell_type": "markdown",
   "id": "dd3682d6",
   "metadata": {},
   "source": [
    "### Conclusion\n",
    "1. Females places more orders and their purchase power is also higher.\n",
    "2. Unmarried female places more order, then married female, and then unmarried male.\n",
    "3. 26-35 Age Group people orders and purchased mostly than others.\n",
    "4. Highest selling Product is Food, Clothing & Apparel, Footwear & Shoes.\n",
    "5. Uttar Pradesh is the highest performing State, then Maharashtra,then Karnataka.\n",
    "6. IT Sector is the highest performing Occupation, then Healthcare, then Aviation."
   ]
  },
  {
   "cell_type": "code",
   "execution_count": null,
   "id": "2a9add5d",
   "metadata": {},
   "outputs": [],
   "source": []
  }
 ],
 "metadata": {
  "kernelspec": {
   "display_name": "Python 3 (ipykernel)",
   "language": "python",
   "name": "python3"
  },
  "language_info": {
   "codemirror_mode": {
    "name": "ipython",
    "version": 3
   },
   "file_extension": ".py",
   "mimetype": "text/x-python",
   "name": "python",
   "nbconvert_exporter": "python",
   "pygments_lexer": "ipython3",
   "version": "3.9.12"
  }
 },
 "nbformat": 4,
 "nbformat_minor": 5
}
